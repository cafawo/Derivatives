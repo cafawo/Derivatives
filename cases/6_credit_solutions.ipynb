{
 "cells": [
  {
   "cell_type": "markdown",
   "metadata": {},
   "source": [
    "![image-3.png](https://github.com/cafawo/Derivatives/blob/main/figures/fscampus_small.png?raw=1)\n",
    "\n",
    "# Derivatives\n",
    "\n",
    "[**Prof. Dr. Fabian Woebbeking**](https://woebbeking.info/)</br>\n",
    "Assistant Professor of Financial Economics</br>"
   ]
  },
  {
   "cell_type": "markdown",
   "metadata": {},
   "source": [
    "## Case 6: Credit pricing and Credit Default Swaps (CDS)"
   ]
  },
  {
   "cell_type": "markdown",
   "metadata": {},
   "source": [
    "### Part 1"
   ]
  },
  {
   "cell_type": "markdown",
   "metadata": {},
   "source": [
    "#### Task: Price a 8% 3-year B rated bond using risk adjusted discounting.\n",
    "\n",
    "**Spot rates** (percentage values, rounded to two digits):\n",
    "\n",
    "| **Rating** | **1Y**       | **2Y**       | **3Y**       | **4Y**       | **5Y**       |\n",
    "|------------|--------------|--------------|--------------|--------------|--------------|\n",
    "|     AAA    |     3.65     |     3.86     |     4.30    |     4.63    |     4.98    |\n",
    "|     AA     |     3.70    |     3.90    |     4.34    |     4.68    |     5.03    |\n",
    "|     A      |     3.77    |     3.98    |     4.43    |     4.77    |     5.12    |\n",
    "|     BBB    |     3.89    |     4.12    |     4.58    |     4.92    |     5.28    |\n",
    "|     BB     |     4.32    |     4.64    |     5.17    |     5.58    |     6.00    |\n",
    "|     B      |     4.93    |     5.34    |     5.98    |     6.46    |     6.96    |\n",
    "|     CCC    |     5.84    |     6.44    |     7.26    |     7.84    |     8.44    |"
   ]
  },
  {
   "cell_type": "code",
   "execution_count": 25,
   "metadata": {},
   "outputs": [
    {
     "name": "stdout",
     "output_type": "stream",
     "text": [
      "The bond price is EUR 105.56\n"
     ]
    }
   ],
   "source": [
    "import numpy as np\n",
    "\n",
    "spot_rates = np.array([4.93, 5.34, 5.98]) / 100\n",
    "discount_factors = 1 / (1 + spot_rates)**np.array([1, 2, 3])\n",
    "annuity_factor = sum(discount_factors)\n",
    "price_discounting = 8 * annuity_factor + 100 / (1 + spot_rates[-1])**3\n",
    "\n",
    "print(f\"The bond price is EUR {price_discounting:,.2f}\")"
   ]
  },
  {
   "cell_type": "markdown",
   "metadata": {},
   "source": [
    "#### Task: Price a 8% 3-year B rated junior bond using risk adjusted cash flows.\n",
    "\n",
    "**Spot rates** (percentage values, rounded to two digits):\n",
    "\n",
    "|           | **1Y** | **2Y**  | **3Y**  | **4Y**  | **5Y**  |\n",
    "|-----------|--------|---------|---------|---------|---------|\n",
    "| Spot rate | 3.60   | 3.81    | 4.25    | 4.58    | 4.93    |\n",
    "\n",
    "\n",
    "**Recovery rates** (percentage values, rounded to two digits):\n",
    "\n",
    "| **Seniority**     | **Recovery** |\n",
    "|-------------------|--------------|\n",
    "| Senior secured    | 53.08        |\n",
    "| Senior            | 51.13        |\n",
    "| Junior            | 32.74        |\n",
    "\n",
    "\n",
    "**Cumulative default rates** (percentage values, rounded to two digits):\n",
    "\n",
    "| **Rating** | **1Y**       | **2Y**       | **3Y**       | **4Y**       | **5Y**      | **7Y**    | **10Y**   | **15Y**      |\n",
    "|------------|--------------|--------------|--------------|--------------|-------------|-----------|-----------|--------------|\n",
    "|     AAA    |     0.00     |     0.00     |     0.07     |     0.15     |     0.24    |     0.66  |     1.40  |     1.40     |\n",
    "|     AA     |     0.00     |     0.02     |     0.12     |     0.25     |     0.43    |     0.89  |     1.29  |     1.48     |\n",
    "|     A      |     0.06     |     0.16     |     0.27     |     0.44     |     0.67    |     1.12  |     2.17  |     3.00     |\n",
    "|     BBB    |     0.18     |     0.44     |     0.72     |     1.27     |     1.78    |     2.99  |     4.34  |     4.70     |\n",
    "|     BB     |     1.06     |     3.48     |     6.12     |     8.68     |     10.97   |     14.46 |     17.73 |     19.91    |\n",
    "|     B      |     5.20     |     11.00    |     15.95    |     19.40    |     21.88   |     25.14 |     29.02 |     30.65    |\n",
    "|     CCC    |     19.79    |     26.92    |     31.63    |     35.97    |     40.15   |     42.64 |     45.10 |     45.10    |"
   ]
  },
  {
   "cell_type": "markdown",
   "metadata": {},
   "source": [
    "The PV of the bond using risk adjusted cash flows, i.e. cash flows adjusted for the probability of their occurrence, is\n",
    "\n",
    "$$\n",
    "\\text{PV Bond} = \\sum_{t=1}^T \\frac{C_t \\times (1-p_t) + C_t \\times  \\text{Recovery} \\times p_t}{(1 + r_t)^t},\n",
    "$$\n",
    "\n",
    "where $p_t$ is the cumulative probability up until time $t$."
   ]
  },
  {
   "cell_type": "code",
   "execution_count": 26,
   "metadata": {},
   "outputs": [
    {
     "name": "stdout",
     "output_type": "stream",
     "text": [
      "The bond price is EUR 99.42\n"
     ]
    }
   ],
   "source": [
    "import numpy as np\n",
    "\n",
    "cash_flows = np.array([8, 8, 108])\n",
    "spot_rates = np.array([3.6, 3.81, 4.25]) / 100\n",
    "default_probabilities = np.array([5.2, 11, 15.95]) / 100\n",
    "\n",
    "pv = 0\n",
    "t  = 1\n",
    "for c, p, r in zip(cash_flows, default_probabilities, spot_rates):\n",
    "    cf_t = c * (1-p) + c * p * 0.3274\n",
    "    pv += cf_t / (1 + r)**t\n",
    "    t += 1\n",
    "\n",
    "print(f\"The bond price is EUR {pv:,.2f}\")"
   ]
  },
  {
   "cell_type": "markdown",
   "metadata": {},
   "source": [
    "#### Task: Calculate the assets swap level.\n",
    "\n",
    "Use the given swap quotation (Reuters: ICAPEURO) to derive the Asset Swap Level for a 5y-coupon bond with $3$% coupon that is currently quoted at $101.00$\n",
    "\n",
    "![image-3.png](6_credit_swapquotes.png)"
   ]
  },
  {
   "cell_type": "code",
   "execution_count": 27,
   "metadata": {},
   "outputs": [
    {
     "name": "stdout",
     "output_type": "stream",
     "text": [
      "The asset swap level is Euribor 125 bps\n"
     ]
    }
   ],
   "source": [
    "from scipy.optimize import minimize\n",
    "\n",
    "def YTM(price, coupon, maturity):\n",
    "    # calculate PV from irr\n",
    "    def YTM_price(irr, coupon, maturity):\n",
    "        T = maturity\n",
    "        annuity_factor = (1 - (1 + irr) ** -T) / irr\n",
    "        p = coupon * annuity_factor + 1 / (1 + irr) ** T\n",
    "        return p\n",
    "    # target function to be minimized\n",
    "    def NPV2(irr):\n",
    "        return (price - YTM_price(irr, coupon, maturity)) ** 2\n",
    "    # set NPV = 0 and return both PVs and the irr\n",
    "    opt = minimize(NPV2, x0=0.01, bounds = ((None, None),))\n",
    "    return opt.x[0]\n",
    "\n",
    "\n",
    "asset_swap_level = YTM(101/100, 3/100, 5) - 1.528/100\n",
    "\n",
    "print(f\"The asset swap level is Euribor {asset_swap_level*10000:.0f} bps\")"
   ]
  },
  {
   "cell_type": "markdown",
   "metadata": {},
   "source": [
    "### Part 2"
   ]
  },
  {
   "cell_type": "markdown",
   "metadata": {},
   "source": [
    "#### Task: Credit Default Swaps on the company „Unhappy“ are to be priced. \n",
    "\n",
    "The settlement in case of a credit event is „Defaulted Bond against Par“. To derive the CDS price, several Unhappy bonds are given. If not stated differently, all bonds currently trade at $100$. \n",
    "\n",
    "1. Price a 3y-CDS on Unhappy, use a 3y-Unhappy Floater with a Libor Spread of $1.68$%. How does the hedge for this CDS work?\n",
    "2. Price a 3y-CDS on Unhappy, use a 3y Unhappy-Floater with a spread of $3.46$% currently trading at $105$.\n",
    "\n",
    "The current interest rate environment is: 1Y $3.65$%; 2Y $3.86$%; 3Y $4.30$% (ISMA)"
   ]
  },
  {
   "cell_type": "code",
   "execution_count": 28,
   "metadata": {},
   "outputs": [
    {
     "name": "stdout",
     "output_type": "stream",
     "text": [
      "The CDS spread is approx. 1.68%\n"
     ]
    }
   ],
   "source": [
    "# 1.\n",
    "\n",
    "print(f\"The CDS spread is approx. {1.68}%\")\n",
    "\n",
    "# Hedge:\n",
    "## Sell the risky par floater\n",
    "## Buy the risk-free par floater"
   ]
  },
  {
   "cell_type": "code",
   "execution_count": 29,
   "metadata": {},
   "outputs": [
    {
     "name": "stdout",
     "output_type": "stream",
     "text": [
      "The fair CDS spread is approx. 1.66%\n"
     ]
    }
   ],
   "source": [
    "# 2.\n",
    "\n",
    "spot_rates = np.array([3.65, 3.86, 4.30]) / 100\n",
    "discount_factors = 1 / (1 + spot_rates)**np.array([1, 2, 3])\n",
    "annuity_factor = sum(discount_factors)\n",
    "\n",
    "fair_spread = 3.46 + (100 - 105) / annuity_factor\n",
    "\n",
    "print(f\"The fair CDS spread is approx. {fair_spread:.2f}%\")"
   ]
  },
  {
   "cell_type": "markdown",
   "metadata": {},
   "source": [
    "#### Task: Calculate the CDS spread from the asset swap level of a 3y-bond currently trading at $102$, with a coupon of $7$%.\n",
    "\n",
    "The current interest rate environment is: 1Y $3.65$%; 2Y $3.86$%; 3Y $4.30$% (ISMA)"
   ]
  },
  {
   "cell_type": "code",
   "execution_count": 30,
   "metadata": {},
   "outputs": [
    {
     "name": "stdout",
     "output_type": "stream",
     "text": [
      "The fair CDS spread is approx. 2.00\n"
     ]
    }
   ],
   "source": [
    "spot_rates = np.array([3.65, 3.86, 4.30]) / 100\n",
    "discount_factors = 1 / (1 + spot_rates)**np.array([1, 2, 3])\n",
    "annuity_factor = sum(discount_factors)\n",
    "\n",
    "fair_spread = (discount_factors[-1] + 7/100 * annuity_factor - 102/100) / annuity_factor\n",
    "\n",
    "print(f\"The fair CDS spread is approx. {fair_spread*100:.2f}\")\n"
   ]
  },
  {
   "cell_type": "markdown",
   "metadata": {},
   "source": [
    "### Part 3"
   ]
  },
  {
   "cell_type": "markdown",
   "metadata": {},
   "source": [
    "#### Task: Find the constant hazard rates.\n",
    "\n",
    "Find the constant hazard rates using a par 2y-CDS with a spread of $1.48$%. Risk-free spot rates of $3.65$% for 1y and $3.86$% for 2y (ISMA). The recovery rate is $30$%. Using the hazard rates show that the CDS spread is $1.48$%.\n",
    "\n",
    "Hint: If you did not get a solution for $h$, you can use $h = 0.0209224$"
   ]
  },
  {
   "cell_type": "code",
   "execution_count": 31,
   "metadata": {},
   "outputs": [
    {
     "name": "stdout",
     "output_type": "stream",
     "text": [
      "The calibrated hazard rate is h = 0.02092239\n",
      "The fair CDS spread is S = 1.48%\n"
     ]
    }
   ],
   "source": [
    "import numpy as np\n",
    "\n",
    "def CDS_AB(h, r, T):\n",
    "    # assuming a constant hazard rate h\n",
    "    A_T = 0\n",
    "    B_T = 0\n",
    "    for t in range(1, T+1):\n",
    "        r_t = r[t-1] if isinstance(r, (list, np.ndarray)) else r\n",
    "        A_T += np.exp(-(h + r_t)*t)\n",
    "        B_T += np.exp(-r_t*t) * ( np.exp(-h*(t-1)) - np.exp(-h*t) )\n",
    "\n",
    "    return (A_T, B_T)\n",
    "\n",
    "# Target function for the solver\n",
    "def fun(h):\n",
    "    A_T, B_T = CDS_AB(h, r, T)\n",
    "    return (B_T*(1 - R) / A_T - S_mkt)**2*100\n",
    "\n",
    "# Parameters\n",
    "T = 2\n",
    "R = 30/100\n",
    "S_mkt = 1.48/100\n",
    "\n",
    "# Credit triangle\n",
    "first_guess = S_mkt / (1 - R)\n",
    "# Find h that solves for S_mkt\n",
    "h = minimize(fun, x0=first_guess, bounds = ((0, None),)).x[0]\n",
    "print(f\"The calibrated hazard rate is h = {h:.8f}\")\n",
    "\n",
    "# Use h to calculate the CDS spread\n",
    "A_T, B_T = CDS_AB(h, np.log([1.0365, 1.0386]), 2)\n",
    "S = B_T*(1 - R) / A_T\n",
    "print(f\"The fair CDS spread is S = {S*100:.2f}%\")\n",
    "\n"
   ]
  },
  {
   "cell_type": "markdown",
   "metadata": {},
   "source": [
    "#### Task: Using the data of the question before, find the upfront payment on EUR $10$ million notional for a CDS standard spread of $1$%.\n",
    "\n",
    "Hint: If you did not get a solution for $h$, you can use $h = 0.0209224$"
   ]
  },
  {
   "cell_type": "code",
   "execution_count": 32,
   "metadata": {},
   "outputs": [
    {
     "name": "stdout",
     "output_type": "stream",
     "text": [
      "Upfront payment on 10mln nominal is EUR 88,024.89\n",
      "Upfront payment on 10mln nominal is EUR 88,024.89\n"
     ]
    }
   ],
   "source": [
    "# Upfront payment (spread payment of 100 basis points = 0.01)\n",
    "upfront = (B_T*(1 - R) - A_T * 0.01) *10**7 \n",
    "upfront_alt = (S - 0.01) * A_T *10**7\n",
    "\n",
    "print(f\"Upfront payment on 10mln nominal is EUR {upfront:,.2f}\")\n",
    "print(f\"Upfront payment on 10mln nominal is EUR {upfront_alt:,.2f}\")"
   ]
  },
  {
   "cell_type": "code",
   "execution_count": 38,
   "metadata": {},
   "outputs": [
    {
     "name": "stdout",
     "output_type": "stream",
     "text": [
      "Upfront payment = 0.8802489%\n"
     ]
    }
   ],
   "source": [
    "print(f\"Upfront payment = {(S - 0.01) * A_T * 100:.7f}%\")"
   ]
  },
  {
   "cell_type": "code",
   "execution_count": null,
   "metadata": {},
   "outputs": [],
   "source": []
  }
 ],
 "metadata": {
  "kernelspec": {
   "display_name": "Python 3 (ipykernel)",
   "language": "python",
   "name": "python3"
  },
  "language_info": {
   "codemirror_mode": {
    "name": "ipython",
    "version": 3
   },
   "file_extension": ".py",
   "mimetype": "text/x-python",
   "name": "python",
   "nbconvert_exporter": "python",
   "pygments_lexer": "ipython3",
   "version": "3.10.9"
  }
 },
 "nbformat": 4,
 "nbformat_minor": 2
}
