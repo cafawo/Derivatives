{
 "cells": [
  {
   "attachments": {},
   "cell_type": "markdown",
   "metadata": {},
   "source": [
    "![image-3.png](https://github.com/cafawo/Derivatives/blob/main/figures/fscampus_small.png?raw=1)\n",
    "\n",
    "# Derivatives\n",
    "\n",
    "[**Prof. Dr. Fabian Woebbeking**](https://woebbeking.info/)</br>\n",
    "Assistant Professor of Financial Economics</br>"
   ]
  },
  {
   "attachments": {},
   "cell_type": "markdown",
   "metadata": {},
   "source": [
    "## Case 2: Forward and hedging"
   ]
  },
  {
   "attachments": {},
   "cell_type": "markdown",
   "metadata": {},
   "source": [
    "### Part 1"
   ]
  },
  {
   "attachments": {},
   "cell_type": "markdown",
   "metadata": {},
   "source": [
    "#### Task: Evaluate a Forward with a maturity of half a year on a share with no dividend. The price is 60 with an exercise price of 55 the continuous rate is 4%."
   ]
  },
  {
   "cell_type": "code",
   "execution_count": 1,
   "metadata": {},
   "outputs": [
    {
     "name": "stdout",
     "output_type": "stream",
     "text": [
      "forward_mtm(55, 60, 1/2, 0.04) =  6.09\n"
     ]
    }
   ],
   "source": [
    "# Your code\n",
    "import numpy as np\n",
    "\n",
    "def forward_mtm(strike, spot, maturity, rate, income=0, storage=0, convenience=0):\n",
    "    return spot * np.exp((- income + storage - convenience) * maturity) - strike * np.exp(- rate * maturity)\n",
    "\n",
    "def forward_price(spot, maturity, rate, income=0, storage=0, convenience=0):\n",
    "    return spot * np.exp((rate - income + storage - convenience) * maturity)\n",
    "\n",
    "print(f'forward_mtm(55, 60, 1/2, 0.04) =  {forward_mtm(55, 60, 1/2, 0.04):.2f}')"
   ]
  },
  {
   "attachments": {},
   "cell_type": "markdown",
   "metadata": {},
   "source": [
    "#### Task: Evaluate a 1 year forward with exercise price 910 on a share with a spot price of 900 and dividend payment of 60 in 6 months and in 12 months. The continuous six month rate is 9% the one year continuous rate is 10%."
   ]
  },
  {
   "cell_type": "code",
   "execution_count": 2,
   "metadata": {},
   "outputs": [
    {
     "name": "stdout",
     "output_type": "stream",
     "text": [
      "PV of dividends = 111.65\n",
      "MTM forward f() = -35.05\n"
     ]
    }
   ],
   "source": [
    "# Your code\n",
    "\n",
    "pv_div = 60 * np.exp(- 0.09 * 0.5) + 60 * np.exp(- 0.10 * 1)\n",
    "print(f\"PV of dividends = {pv_div:,.2f}\")\n",
    "\n",
    "mtm_fwd = 900 - pv_div - 910 * np.exp(- 0.10 * 1)\n",
    "print(f\"MTM forward f() = {mtm_fwd:,.2f}\")"
   ]
  },
  {
   "attachments": {},
   "cell_type": "markdown",
   "metadata": {},
   "source": [
    "#### Evaluate a six month forward with strike 27 on a share with spot price 25 and a continuous dividend yield of 4%. The six month continuous rate is 10%. Also calculate the forward price."
   ]
  },
  {
   "cell_type": "code",
   "execution_count": 3,
   "metadata": {},
   "outputs": [
    {
     "name": "stdout",
     "output_type": "stream",
     "text": [
      "forward_mtm(27, 25, 6/12, 0.1, 0.04) = -1.18\n",
      "forward_price(25, 6/12, 0.1, 0.04)   = 25.76\n"
     ]
    }
   ],
   "source": [
    "# Your code\n",
    "print(f'forward_mtm(27, 25, 6/12, 0.1, 0.04) = {forward_mtm(27, 25, 6/12, 0.1, 0.04):.2f}')\n",
    "print(f'forward_price(25, 6/12, 0.1, 0.04)   = {forward_price(25, 6/12, 0.1, 0.04):.2f}')"
   ]
  },
  {
   "attachments": {},
   "cell_type": "markdown",
   "metadata": {},
   "source": [
    "#### Task: Analyze a one year forward on a share (no dividends) with a spot price of 40. The continuous rate is 10%.\n",
    "\n",
    "1. \tCalculate the forward price and the value of the contract at the start. \n",
    "\n",
    "2. \tSix months later is the spot price 45. Calculate the new forward price and the value of the old contract.\n"
   ]
  },
  {
   "cell_type": "code",
   "execution_count": 4,
   "metadata": {},
   "outputs": [
    {
     "name": "stdout",
     "output_type": "stream",
     "text": [
      "A:\n",
      "Forward price = 44.21\n",
      "Market value  = 0.00\n",
      "B:\n",
      "Forward price = 47.31\n",
      "Market value  = 2.95\n",
      "Market value  = 2.95 (alternative calculation)\n"
     ]
    }
   ],
   "source": [
    "# Your code\n",
    "print(\"A:\")\n",
    "F_0 = forward_price(40, 1, 0.1)\n",
    "print(f'Forward price = {F_0:.2f}')\n",
    "f_0 = forward_mtm(F_0, 40, 1, 0.1)\n",
    "print(f'Market value  = {f_0:.2f}')\n",
    "\n",
    "print(\"B:\")\n",
    "F_1 = forward_price(45, 6/12, 0.1)\n",
    "print(f'Forward price = {F_1:.2f}')\n",
    "f_1 = forward_mtm(F_0, 45, 6/12, 0.1)\n",
    "print(f'Market value  = {f_1:.2f}')\n",
    "print(f\"Market value  = {(F_1-F_0) * np.exp(-0.1*0.5):,.2f} (alternative calculation)\")\n"
   ]
  },
  {
   "attachments": {},
   "cell_type": "markdown",
   "metadata": {},
   "source": [
    "#### Task: Explain the cost of carry and convenience yield."
   ]
  },
  {
   "attachments": {},
   "cell_type": "markdown",
   "metadata": {},
   "source": [
    "* carry: financing, storage, transportation, insurance \n",
    "* convenience yield: advantage of physical possession "
   ]
  },
  {
   "attachments": {},
   "cell_type": "markdown",
   "metadata": {},
   "source": [
    "### Part 2\n",
    "\n",
    "This part is concerned with hedging. For the number crunching we use NumPy:\n",
    "\n",
    "> NumPy is the fundamental package for scientific computing with Python. ([see NumPy documentation](https://numpy.org/))\n",
    "\n",
    "For the data wrangling we use Pandas:\n",
    "\n",
    "> Pandas is an open source, BSD-licensed library providing high-performance, easy-to-use data structures and data analysis tools for the Python programming language. ([see pandas documentation](https://pandas.pydata.org/docs/index.html))"
   ]
  },
  {
   "cell_type": "code",
   "execution_count": 5,
   "metadata": {},
   "outputs": [
    {
     "data": {
      "text/html": [
       "<div>\n",
       "<style scoped>\n",
       "    .dataframe tbody tr th:only-of-type {\n",
       "        vertical-align: middle;\n",
       "    }\n",
       "\n",
       "    .dataframe tbody tr th {\n",
       "        vertical-align: top;\n",
       "    }\n",
       "\n",
       "    .dataframe thead th {\n",
       "        text-align: right;\n",
       "    }\n",
       "</style>\n",
       "<table border=\"1\" class=\"dataframe\">\n",
       "  <thead>\n",
       "    <tr style=\"text-align: right;\">\n",
       "      <th></th>\n",
       "      <th>volume_BTC</th>\n",
       "      <th>open_BTC</th>\n",
       "      <th>low_BTC</th>\n",
       "      <th>high_BTC</th>\n",
       "      <th>close_BTC</th>\n",
       "      <th>volume_ETH</th>\n",
       "      <th>open_ETH</th>\n",
       "      <th>low_ETH</th>\n",
       "      <th>high_ETH</th>\n",
       "      <th>close_ETH</th>\n",
       "      <th>ret_BTC</th>\n",
       "      <th>ret_ETH</th>\n",
       "      <th>logret_BTC</th>\n",
       "      <th>logret_ETH</th>\n",
       "    </tr>\n",
       "  </thead>\n",
       "  <tbody>\n",
       "    <tr>\n",
       "      <th>2023-01-01</th>\n",
       "      <td>2775.514873</td>\n",
       "      <td>16519.0</td>\n",
       "      <td>16497.0</td>\n",
       "      <td>16771.5</td>\n",
       "      <td>16714.0</td>\n",
       "      <td>30710.64956</td>\n",
       "      <td>1194.30</td>\n",
       "      <td>1192.55</td>\n",
       "      <td>1220.05</td>\n",
       "      <td>1212.45</td>\n",
       "      <td>NaN</td>\n",
       "      <td>NaN</td>\n",
       "      <td>NaN</td>\n",
       "      <td>NaN</td>\n",
       "    </tr>\n",
       "    <tr>\n",
       "      <th>2023-01-02</th>\n",
       "      <td>4196.490738</td>\n",
       "      <td>16714.0</td>\n",
       "      <td>16646.5</td>\n",
       "      <td>16788.5</td>\n",
       "      <td>16730.5</td>\n",
       "      <td>62574.24303</td>\n",
       "      <td>1212.75</td>\n",
       "      <td>1211.60</td>\n",
       "      <td>1223.20</td>\n",
       "      <td>1216.55</td>\n",
       "      <td>0.000987</td>\n",
       "      <td>0.003382</td>\n",
       "      <td>0.000987</td>\n",
       "      <td>0.003376</td>\n",
       "    </tr>\n",
       "    <tr>\n",
       "      <th>2023-01-03</th>\n",
       "      <td>5270.260175</td>\n",
       "      <td>16730.0</td>\n",
       "      <td>16603.5</td>\n",
       "      <td>16903.0</td>\n",
       "      <td>16876.0</td>\n",
       "      <td>93092.93577</td>\n",
       "      <td>1216.55</td>\n",
       "      <td>1204.65</td>\n",
       "      <td>1255.60</td>\n",
       "      <td>1252.60</td>\n",
       "      <td>0.008697</td>\n",
       "      <td>0.029633</td>\n",
       "      <td>0.008659</td>\n",
       "      <td>0.029202</td>\n",
       "    </tr>\n",
       "    <tr>\n",
       "      <th>2023-01-04</th>\n",
       "      <td>5571.352194</td>\n",
       "      <td>16875.5</td>\n",
       "      <td>16759.5</td>\n",
       "      <td>16988.0</td>\n",
       "      <td>16820.5</td>\n",
       "      <td>70631.16868</td>\n",
       "      <td>1252.65</td>\n",
       "      <td>1243.45</td>\n",
       "      <td>1271.95</td>\n",
       "      <td>1251.25</td>\n",
       "      <td>-0.003289</td>\n",
       "      <td>-0.001078</td>\n",
       "      <td>-0.003294</td>\n",
       "      <td>-0.001078</td>\n",
       "    </tr>\n",
       "    <tr>\n",
       "      <th>2023-01-05</th>\n",
       "      <td>5572.717440</td>\n",
       "      <td>16820.5</td>\n",
       "      <td>16752.5</td>\n",
       "      <td>16873.0</td>\n",
       "      <td>16783.0</td>\n",
       "      <td>63309.29345</td>\n",
       "      <td>1251.20</td>\n",
       "      <td>1240.45</td>\n",
       "      <td>1258.00</td>\n",
       "      <td>1247.80</td>\n",
       "      <td>-0.002229</td>\n",
       "      <td>-0.002757</td>\n",
       "      <td>-0.002232</td>\n",
       "      <td>-0.002761</td>\n",
       "    </tr>\n",
       "  </tbody>\n",
       "</table>\n",
       "</div>"
      ],
      "text/plain": [
       "             volume_BTC  open_BTC  low_BTC  high_BTC  close_BTC   volume_ETH  \\\n",
       "2023-01-01  2775.514873   16519.0  16497.0   16771.5    16714.0  30710.64956   \n",
       "2023-01-02  4196.490738   16714.0  16646.5   16788.5    16730.5  62574.24303   \n",
       "2023-01-03  5270.260175   16730.0  16603.5   16903.0    16876.0  93092.93577   \n",
       "2023-01-04  5571.352194   16875.5  16759.5   16988.0    16820.5  70631.16868   \n",
       "2023-01-05  5572.717440   16820.5  16752.5   16873.0    16783.0  63309.29345   \n",
       "\n",
       "            open_ETH  low_ETH  high_ETH  close_ETH   ret_BTC   ret_ETH  \\\n",
       "2023-01-01   1194.30  1192.55   1220.05    1212.45       NaN       NaN   \n",
       "2023-01-02   1212.75  1211.60   1223.20    1216.55  0.000987  0.003382   \n",
       "2023-01-03   1216.55  1204.65   1255.60    1252.60  0.008697  0.029633   \n",
       "2023-01-04   1252.65  1243.45   1271.95    1251.25 -0.003289 -0.001078   \n",
       "2023-01-05   1251.20  1240.45   1258.00    1247.80 -0.002229 -0.002757   \n",
       "\n",
       "            logret_BTC  logret_ETH  \n",
       "2023-01-01         NaN         NaN  \n",
       "2023-01-02    0.000987    0.003376  \n",
       "2023-01-03    0.008659    0.029202  \n",
       "2023-01-04   -0.003294   -0.001078  \n",
       "2023-01-05   -0.002232   -0.002761  "
      ]
     },
     "metadata": {},
     "output_type": "display_data"
    }
   ],
   "source": [
    "import pandas as pd\n",
    "\n",
    "# Load some data into a data frame (df) that we call ohlc\n",
    "ohlc = pd.read_csv('https://github.com/cafawo/Derivatives/blob/main/cases/2_forwards_data.csv?raw=1', index_col=0, parse_dates=True)\n",
    "\n",
    "\n",
    "# Arithmetic returns\n",
    "ohlc['ret_BTC'] = ohlc['close_BTC'] / ohlc['close_BTC'].shift(1) - 1\n",
    "ohlc['ret_ETH'] = ohlc['close_ETH'] / ohlc['close_ETH'].shift(1) - 1\n",
    "# Log returns\n",
    "ohlc['logret_BTC'] = np.log(ohlc['close_BTC']) - np.log(ohlc['close_BTC'].shift(1))\n",
    "ohlc['logret_ETH'] = np.log(ohlc['close_ETH']) - np.log(ohlc['close_ETH'].shift(1))\n",
    "\n",
    "# Show the first 5 values in our data frame\n",
    "display(ohlc.head(5))\n",
    "# There are naturally NaNs from the return calculations, which we remove\n",
    "ohlc.dropna(inplace=True)"
   ]
  },
  {
   "cell_type": "code",
   "execution_count": 6,
   "metadata": {},
   "outputs": [
    {
     "data": {
      "text/plain": [
       "<AxesSubplot:>"
      ]
     },
     "execution_count": 6,
     "metadata": {},
     "output_type": "execute_result"
    },
    {
     "data": {
      "image/png": "[encoded data removed]",
      "text/plain": [
       "<Figure size 640x480 with 1 Axes>"
      ]
     },
     "metadata": {},
     "output_type": "display_data"
    }
   ],
   "source": [
    "# You can access specific column(s) in the df\n",
    "ohlc[['high_BTC', 'low_BTC']].plot()"
   ]
  },
  {
   "cell_type": "code",
   "execution_count": 7,
   "metadata": {},
   "outputs": [
    {
     "name": "stdout",
     "output_type": "stream",
     "text": [
      "BTC daily mu:  0.7044%\n",
      "BTC daily vol: 3.2046%\n"
     ]
    }
   ],
   "source": [
    "import numpy as np\n",
    "\n",
    "# Mean\n",
    "btc_mu = np.mean(ohlc['ret_BTC'])\n",
    "print(f\"BTC daily mu:  {btc_mu * 100:,.4f}%\")\n",
    "# Standard deviation\n",
    "btc_std = np.std(ohlc['ret_BTC'])\n",
    "print(f\"BTC daily vol: {btc_std * 100:,.4f}%\")"
   ]
  },
  {
   "attachments": {},
   "cell_type": "markdown",
   "metadata": {},
   "source": [
    "#### Task: Use the data in `ohlc` to calculate the a hedge ratio between the two assets."
   ]
  },
  {
   "cell_type": "code",
   "execution_count": 8,
   "metadata": {},
   "outputs": [
    {
     "name": "stdout",
     "output_type": "stream",
     "text": [
      "BTC std      = 0.0320\n",
      "ETH std      = 0.0311\n",
      "BTC/ETH corr = 0.9098\n",
      "Hedge ratio  = 0.9384\n"
     ]
    }
   ],
   "source": [
    "# Hint: adopt the code from above, you can also find relevant calculations in derivatives.ipynb\n",
    "\n",
    "# Your code\n",
    "btc_std = np.std(ohlc['ret_BTC'])\n",
    "print(f\"BTC std      = {btc_std:.4f}\")\n",
    "eth_std = np.std(ohlc['ret_ETH'])\n",
    "print(f\"ETH std      = {eth_std:.4f}\")\n",
    "#rho = np.corrcoef(ohlc['ret_close_ETH'],ohlc['ret_close_BTC'])[0][1]  # Numpy\n",
    "rho = ohlc[['ret_ETH','ret_BTC']].corr().iloc[0,1]  # Pandas\n",
    "print(f\"BTC/ETH corr = {rho:.4f}\")\n",
    "\n",
    "hedge_ratio = rho * btc_std / eth_std\n",
    "print(f\"Hedge ratio  = {hedge_ratio:.4f}\")"
   ]
  },
  {
   "attachments": {},
   "cell_type": "markdown",
   "metadata": {},
   "source": [
    "#### Task: Explain and interpret your results (plots always help)."
   ]
  },
  {
   "cell_type": "code",
   "execution_count": 9,
   "metadata": {},
   "outputs": [
    {
     "data": {
      "image/png": "[encoded data removed]",
      "text/plain": [
       "<Figure size 640x480 with 1 Axes>"
      ]
     },
     "metadata": {},
     "output_type": "display_data"
    }
   ],
   "source": [
    "from numpy.polynomial.polynomial import polyfit\n",
    "import matplotlib.pyplot as plt\n",
    "\n",
    "# Fit a linear regression\n",
    "constant, beta = polyfit(ohlc['ret_ETH'], ohlc['ret_BTC'], 1)\n",
    "\n",
    "plt.figure('mvhegde')\n",
    "plt.xlabel('ETH return')\n",
    "plt.ylabel('BTC return')\n",
    "# Plot observations\n",
    "plt.scatter(ohlc['ret_ETH'], ohlc['ret_BTC'])\n",
    "# Plot regression line\n",
    "plt.plot(ohlc['ret_ETH'], constant + beta * ohlc['ret_ETH'], 'r-')\n",
    "plt.show()"
   ]
  }
 ],
 "metadata": {
  "kernelspec": {
   "display_name": "Python 3 (ipykernel)",
   "language": "python",
   "name": "python3"
  },
  "language_info": {
   "codemirror_mode": {
    "name": "ipython",
    "version": 3
   },
   "file_extension": ".py",
   "mimetype": "text/x-python",
   "name": "python",
   "nbconvert_exporter": "python",
   "pygments_lexer": "ipython3",
   "version": "3.8.10"
  }
 },
 "nbformat": 4,
 "nbformat_minor": 2
}
