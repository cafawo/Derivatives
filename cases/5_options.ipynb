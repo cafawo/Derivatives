{
 "cells": [
  {
   "attachments": {},
   "cell_type": "markdown",
   "metadata": {},
   "source": [
    "![image-3.png](https://github.com/cafawo/Derivatives/blob/main/figures/derivatives_header.png?raw=1)\n",
    "\n",
    "# Derivatives\n",
    "\n",
    "[**Prof. Dr. Fabian Woebbeking**](https://woebbeking.info/)</br>\n",
    "Assistant Professor of Financial Economics</br>"
   ]
  },
  {
   "attachments": {},
   "cell_type": "markdown",
   "metadata": {},
   "source": [
    "## Case 5: Options"
   ]
  },
  {
   "attachments": {},
   "cell_type": "markdown",
   "metadata": {},
   "source": [
    "### Part 1: Introduction"
   ]
  },
  {
   "attachments": {},
   "cell_type": "markdown",
   "metadata": {},
   "source": [
    "#### Task: Which are the six main factors, and how do they affect the value of an option?"
   ]
  },
  {
   "attachments": {},
   "cell_type": "markdown",
   "metadata": {},
   "source": [
    "#### Task: Calculate the minimum value of a call with a strike of 25 and 4 months to maturity. The underlying has a spot price of 28 and the continuous rate is 8%."
   ]
  },
  {
   "attachments": {},
   "cell_type": "markdown",
   "metadata": {},
   "source": [
    "#### Task: Explain why it is not rational to early exercise an American call on a share with no dividends."
   ]
  },
  {
   "attachments": {},
   "cell_type": "markdown",
   "metadata": {},
   "source": [
    "#### Task: Why does the put call parity not work for American options?"
   ]
  },
  {
   "attachments": {},
   "cell_type": "markdown",
   "metadata": {},
   "source": [
    "### Part 2: Stochastic processes"
   ]
  },
  {
   "attachments": {},
   "cell_type": "markdown",
   "metadata": {},
   "source": [
    "#### Task: The liquidity position of a firm measured in million is a generalized Wiener process with a drift of $0.1$ per month and a variance of $\\sigma^2 = 0.16$ per month. The initial cash position is $2.0$. Calculate:\n",
    "\n",
    "1. \tthe expected value and standard deviation in one, six and 12 months.\n",
    "\n",
    "2.\tWhat is the probability of a negative cash position in 6 and 12 months? "
   ]
  },
  {
   "attachments": {},
   "cell_type": "markdown",
   "metadata": {},
   "source": [
    "#### Task: A share has an expected return of 16% p.a. with a volatility of 30% (365 days). The spot price of the share is 50. Calculate:\n",
    "\n",
    "1. tomorrow’s expected share price,\n",
    "2. it’s standard deviation,\n",
    "3. a 95% confidence interval \n",
    "4. the value at risk for one day at a 95% level. \n",
    "5. Simulate the movement of the share for 15 trading days."
   ]
  },
  {
   "attachments": {},
   "cell_type": "markdown",
   "metadata": {},
   "source": [
    "### Part 3: Cox-Ross-Rubinstein"
   ]
  },
  {
   "attachments": {},
   "cell_type": "markdown",
   "metadata": {},
   "source": [
    "#### Task: Evaluate the following one year options using the Cox-Ross-Rubinstein model.\n",
    "\n",
    "Evaluate the following one year options on a share with a spot price of 220. The Volatility is 98% and the interest rate is 21% p.a. ISMA. Use a two step lattice.\n",
    "\n",
    "1. European call with strike 165\n",
    "2. American call with strike 165\n",
    "3. European put  with strike 220\n",
    "4. American put  with strike 220"
   ]
  },
  {
   "attachments": {},
   "cell_type": "markdown",
   "metadata": {},
   "source": [
    "#### Task: Evaluate the following binary options, using the Cox-Ross-Rubinstein model with parameters from above.\n",
    "\n",
    "1. European cash or nothing option with Strike 165 and a payout of 165.\n",
    "2. European asset or nothing option with a strike 165."
   ]
  },
  {
   "attachments": {},
   "cell_type": "markdown",
   "metadata": {},
   "source": [
    "#### Task: Explain the relationship between plain vanilla and binary options."
   ]
  },
  {
   "attachments": {},
   "cell_type": "markdown",
   "metadata": {},
   "source": [
    "### Part 4: Black-Scholes-Merton"
   ]
  },
  {
   "attachments": {},
   "cell_type": "markdown",
   "metadata": {},
   "source": [
    "#### Task: Price an option using the Merton model.\n",
    "\n",
    "The spot price of a share is EUR 300 with a dividend yield of 3% and an interest rate of 8% (ISMA). Evaluate a half year call with a strike 300 and a volatility of 20% using the Merton model."
   ]
  }
 ],
 "metadata": {
  "kernelspec": {
   "display_name": "Python 3 (ipykernel)",
   "language": "python",
   "name": "python3"
  },
  "language_info": {
   "codemirror_mode": {
    "name": "ipython",
    "version": 3
   },
   "file_extension": ".py",
   "mimetype": "text/x-python",
   "name": "python",
   "nbconvert_exporter": "python",
   "pygments_lexer": "ipython3",
   "version": "3.8.16"
  }
 },
 "nbformat": 4,
 "nbformat_minor": 2
}
