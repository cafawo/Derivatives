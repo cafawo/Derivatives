{
 "cells": [
  {
   "attachments": {},
   "cell_type": "markdown",
   "metadata": {},
   "source": [
    "![image-3.png](https://github.com/cafawo/Derivatives/blob/main/figures/derivatives_header.png?raw=1)\n",
    "\n",
    "# Derivatives\n",
    "\n",
    "[**Prof. Dr. Fabian Woebbeking**](https://woebbeking.info/)</br>\n",
    "Assistant Professor of Financial Economics</br>"
   ]
  },
  {
   "attachments": {},
   "cell_type": "markdown",
   "metadata": {},
   "source": [
    "## Case 6: Credit pricing and Credit Default Swaps (CDS)"
   ]
  },
  {
   "attachments": {},
   "cell_type": "markdown",
   "metadata": {},
   "source": [
    "Case description ..."
   ]
  },
  {
   "attachments": {},
   "cell_type": "markdown",
   "metadata": {},
   "source": [
    "### Part 1"
   ]
  },
  {
   "attachments": {},
   "cell_type": "markdown",
   "metadata": {},
   "source": [
    "#### Task: Price a 8% 3-year B rated bond using risk adjusted discounting.\n",
    "\n",
    "**Spot rates** (percentage values, rounded to two digits):\n",
    "\n",
    "| **Rating** | **1Y**       | **2Y**       | **3Y**       | **4Y**       | **5Y**       |\n",
    "|------------|--------------|--------------|--------------|--------------|--------------|\n",
    "|     AAA    |     3.65     |     3.86     |     4.30    |     4.63    |     4.98    |\n",
    "|     AA     |     3.70    |     3.90    |     4.34    |     4.68    |     5.03    |\n",
    "|     A      |     3.77    |     3.98    |     4.43    |     4.77    |     5.12    |\n",
    "|     BBB    |     3.89    |     4.12    |     4.58    |     4.92    |     5.28    |\n",
    "|     BB     |     4.32    |     4.64    |     5.17    |     5.58    |     6.00    |\n",
    "|     B      |     4.93    |     5.34    |     5.98    |     6.46    |     6.96    |\n",
    "|     CCC    |     5.84    |     6.44    |     7.26    |     7.84    |     8.44    |"
   ]
  },
  {
   "attachments": {},
   "cell_type": "markdown",
   "metadata": {},
   "source": [
    "#### Task: Price a 8% 3-year B rated junior bond using risk adjusted cash flows.\n",
    "\n",
    "**Spot rates** (percentage values, rounded to two digits):\n",
    "\n",
    "|           | **1Y** | **2Y**  | **3Y**  | **4Y**  | **5Y**  |\n",
    "|-----------|--------|---------|---------|---------|---------|\n",
    "| Spot rate | 3.60   | 3.81    | 4.25    | 4.58    | 4.93    |\n",
    "\n",
    "\n",
    "**Recovery rates** (percentage values, rounded to two digits):\n",
    "\n",
    "| **Seniority**     | **Recovery** |\n",
    "|-------------------|--------------|\n",
    "| Senior secured    | 53.08        |\n",
    "| Senior            | 51.13        |\n",
    "| Junior            | 32.74        |\n",
    "\n",
    "\n",
    "**Cumulative default rates** (percentage values, rounded to two digits):\n",
    "\n",
    "| **Rating** | **1Y**       | **2Y**       | **3Y**       | **4Y**       | **5Y**      | **7Y**    | **10Y**   | **15Y**      |\n",
    "|------------|--------------|--------------|--------------|--------------|-------------|-----------|-----------|--------------|\n",
    "|     AAA    |     0.00     |     0.00     |     0.07     |     0.15     |     0.24    |     0.66  |     1.40  |     1.40     |\n",
    "|     AA     |     0.00     |     0.02     |     0.12     |     0.25     |     0.43    |     0.89  |     1.29  |     1.48     |\n",
    "|     A      |     0.06     |     0.16     |     0.27     |     0.44     |     0.67    |     1.12  |     2.17  |     3.00     |\n",
    "|     BBB    |     0.18     |     0.44     |     0.72     |     1.27     |     1.78    |     2.99  |     4.34  |     4.70     |\n",
    "|     BB     |     1.06     |     3.48     |     6.12     |     8.68     |     10.97   |     14.46 |     17.73 |     19.91    |\n",
    "|     B      |     5.20     |     11.00    |     15.95    |     19.40    |     21.88   |     25.14 |     29.02 |     30.65    |\n",
    "|     CCC    |     19.79    |     26.92    |     31.63    |     35.97    |     40.15   |     42.64 |     45.10 |     45.10    |"
   ]
  },
  {
   "attachments": {},
   "cell_type": "markdown",
   "metadata": {},
   "source": [
    "#### Task: Calculate the assets swap level.\n",
    "\n",
    "Use the given swap quotation (Reuters: ICAPEURO) to derive the Asset Swap Level for a 5y-coupon bond with 3% coupon that is currently quoted at 101.00\n",
    "\n",
    "\n",
    "![image-3.png](https://github.com/cafawo/Derivatives/blob/main/cases/6_credit_swapquotes.png?raw=1)"
   ]
  },
  {
   "attachments": {},
   "cell_type": "markdown",
   "metadata": {},
   "source": [
    "### Part 2"
   ]
  },
  {
   "attachments": {},
   "cell_type": "markdown",
   "metadata": {},
   "source": [
    "#### Task: Credit Default Swaps on the company „Unhappy“ are to be priced. \n",
    "\n",
    "The settlement in case of a credit event is „Defaulted Bond against Par“. To derive the CDS price, several Unhappy bonds are given. If not stated differently, all bonds currently trade at 100. \n",
    "\n",
    "1. Price a 3y-CDS on Unhappy, use a 3y-Unhappy Floater with a Libor Spread of 1.68%. How does the hedge for this CDS work?\n",
    "2. Price a 3y-CDS on Unhappy, use a 3y Unhappy-Floater with a spread of 3.46% currently trading at 105.\n",
    "\n",
    "The current interest rate environment is: 1Y 3.65%; 2Y 3.86%; 3Y 4.30% (ISMA)"
   ]
  },
  {
   "attachments": {},
   "cell_type": "markdown",
   "metadata": {},
   "source": [
    "#### Task: Calculate the CDS spread from the asset swap level of a 3y-bond currently trading at $102$, with a coupon of $7$%.\n",
    "\n",
    "The current interest rate environment is: 1Y 3.65%; 2Y 3.86%; 3Y 4.30% (ISMA)"
   ]
  },
  {
   "attachments": {},
   "cell_type": "markdown",
   "metadata": {},
   "source": [
    "### Part 3"
   ]
  },
  {
   "attachments": {},
   "cell_type": "markdown",
   "metadata": {},
   "source": [
    "#### Task: Find the constant hazard rates.\n",
    "\n",
    "Find the constant hazard rates using a par 2y-CDS with a spread of 1.48%. Risk-free spot rates of 3.65% for 1y and 3.86% for 2y (ISMA). The recovery rate is 30%. Using the hazard rates show that the CDS spread is 1.48%.\n",
    "\n",
    "Hint: If you did not get a solution for $h$, you can use $h = 0.0209224$"
   ]
  },
  {
   "attachments": {},
   "cell_type": "markdown",
   "metadata": {},
   "source": [
    "#### Task: Using the data of the question before, find the upfront payment on $10$ million notional for a CDS standard spread of 1%.\n",
    "\n",
    "Hint: If you did not get a solution for $h$, you can use $h = 0.0209224$"
   ]
  }
 ],
 "metadata": {
  "kernelspec": {
   "display_name": "Python 3 (ipykernel)",
   "language": "python",
   "name": "python3"
  },
  "language_info": {
   "codemirror_mode": {
    "name": "ipython",
    "version": 3
   },
   "file_extension": ".py",
   "mimetype": "text/x-python",
   "name": "python",
   "nbconvert_exporter": "python",
   "pygments_lexer": "ipython3",
   "version": "3.8.16"
  }
 },
 "nbformat": 4,
 "nbformat_minor": 2
}
