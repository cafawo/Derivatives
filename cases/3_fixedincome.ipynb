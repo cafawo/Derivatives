{
 "cells": [
  {
   "attachments": {},
   "cell_type": "markdown",
   "metadata": {},
   "source": [
    "![image-3.png](https://github.com/cafawo/Derivatives/blob/main/figures/fscampus_small.png?raw=1)\n",
    "\n",
    "# Derivatives\n",
    "\n",
    "**Prof. Dr. Fabian Woebbeking**</br>\n",
    "Assistant Professor of Financial Economics\n",
    "\n",
    "IWH - Leibniz Institute for Economic Research</br>\n",
    "Frankfurt School of Finance & Management\n",
    "\n",
    "fabian.woebbeking@dozent.frankfurt-school.de"
   ]
  },
  {
   "attachments": {},
   "cell_type": "markdown",
   "metadata": {},
   "source": [
    "## Case 3: Fixed Income"
   ]
  },
  {
   "attachments": {},
   "cell_type": "markdown",
   "metadata": {},
   "source": [
    "Case description ..."
   ]
  },
  {
   "attachments": {},
   "cell_type": "markdown",
   "metadata": {},
   "source": [
    "### Part 1: Basics\n",
    "\n",
    "The following 3 zero bonds are given:\n",
    "\n",
    "| Maturity | Price | Redemption |\n",
    "|:--------:|:-----:|:----------:|\n",
    "|    1Y    | 95.24 |     100    |\n",
    "|    2Y    | 89.00 |     100    |\n",
    "|    3Y    | 81.63 |     100    |\n",
    "\n",
    "(Table generated with [TablesGenerator](https://www.tablesgenerator.com/markdown_tables))"
   ]
  },
  {
   "attachments": {},
   "cell_type": "markdown",
   "metadata": {},
   "source": [
    "#### Task: Calculate spot and forward rates."
   ]
  },
  {
   "cell_type": "code",
   "execution_count": null,
   "metadata": {},
   "outputs": [],
   "source": []
  },
  {
   "attachments": {},
   "cell_type": "markdown",
   "metadata": {},
   "source": [
    "#### Task: Price a three year 10% bond. Calculate the IRR and explain the relationship of the spot rates and the IRR."
   ]
  },
  {
   "cell_type": "markdown",
   "metadata": {},
   "source": []
  },
  {
   "cell_type": "code",
   "execution_count": null,
   "metadata": {},
   "outputs": [],
   "source": []
  },
  {
   "attachments": {},
   "cell_type": "markdown",
   "metadata": {},
   "source": [
    "#### Task:\tEvaluate with the same curve, a three year floater against the one year rate (bond base)."
   ]
  },
  {
   "cell_type": "code",
   "execution_count": null,
   "metadata": {},
   "outputs": [],
   "source": []
  },
  {
   "attachments": {},
   "cell_type": "markdown",
   "metadata": {},
   "source": [
    "#### Task: Solve analytically and calculate the par coupon rate for a three year bond."
   ]
  },
  {
   "cell_type": "markdown",
   "metadata": {},
   "source": []
  },
  {
   "cell_type": "code",
   "execution_count": null,
   "metadata": {},
   "outputs": [],
   "source": []
  },
  {
   "attachments": {},
   "cell_type": "markdown",
   "metadata": {},
   "source": [
    "### Part 2: Asset-/ liability-swap"
   ]
  },
  {
   "attachments": {},
   "cell_type": "markdown",
   "metadata": {},
   "source": [
    "#### Task: Calculate the level of the floating debt (liability swap).\n",
    "\n",
    "Power has issued a five year bond with a coupon of 2% and a pay out of 100,5. The five year IRS is quoted 2,00 – 2,05 against six month EURIBOR. "
   ]
  },
  {
   "cell_type": "code",
   "execution_count": null,
   "metadata": {},
   "outputs": [],
   "source": []
  },
  {
   "attachments": {},
   "cell_type": "markdown",
   "metadata": {},
   "source": [
    "#### Task: Calculate the asset swap.\n",
    "\n",
    "The Investor has bought a five year AA Bond with a coupon of 3% for 101,00. The 5 Y IRS quotes 2,00 -2,05 against 6M Euribor. "
   ]
  },
  {
   "cell_type": "code",
   "execution_count": null,
   "metadata": {},
   "outputs": [],
   "source": []
  },
  {
   "attachments": {},
   "cell_type": "markdown",
   "metadata": {},
   "source": [
    "### Part 3: Single curve\n",
    "\n",
    "The following swap rates are given: \n",
    "\n",
    "| Maturity | 12M Euribor | Eonia |\n",
    "|:--------:|:-----------:|:-----:|\n",
    "|    1Y    |    4.00%    | 3.30% |\n",
    "|    2Y    |    5.00%    | 4.50% |\n",
    "|    3Y    |    6.00%    | 5.30% |\n",
    "\n",
    "(Table generated with [TablesGenerator](https://www.tablesgenerator.com/markdown_tables))"
   ]
  },
  {
   "attachments": {},
   "cell_type": "markdown",
   "metadata": {},
   "source": [
    "#### Task: Calculate all spot and forward rates using the single curve approach."
   ]
  },
  {
   "cell_type": "code",
   "execution_count": null,
   "metadata": {},
   "outputs": [],
   "source": []
  },
  {
   "attachments": {},
   "cell_type": "markdown",
   "metadata": {},
   "source": [
    "#### Task: Price a three year swap against the one year rate using the single curve approach."
   ]
  },
  {
   "cell_type": "code",
   "execution_count": null,
   "metadata": {},
   "outputs": [],
   "source": []
  },
  {
   "attachments": {},
   "cell_type": "markdown",
   "metadata": {},
   "source": [
    "#### Task: Price the forward swap in one for two. Show that the result is correct and compare it to the zero rate in one for two using the single curve approach. "
   ]
  },
  {
   "cell_type": "code",
   "execution_count": null,
   "metadata": {},
   "outputs": [],
   "source": []
  },
  {
   "cell_type": "markdown",
   "metadata": {},
   "source": []
  },
  {
   "attachments": {},
   "cell_type": "markdown",
   "metadata": {},
   "source": [
    "#### Task: Mark to market a swap, 8% against 12M Euribor with a remaining maturity of 3 years and EUR 100mln notional."
   ]
  },
  {
   "cell_type": "code",
   "execution_count": null,
   "metadata": {},
   "outputs": [],
   "source": []
  },
  {
   "attachments": {},
   "cell_type": "markdown",
   "metadata": {},
   "source": [
    "### Part 4: Multi curve\n",
    "\n",
    "Consider a three year swap against the one year rate using the multi curve approach. The following swap rates are given: \n",
    "\n",
    "| Maturity | 12M Euribor | Eonia |\n",
    "|:--------:|:-----------:|:-----:|\n",
    "|    1Y    |    4.00%    | 3.30% |\n",
    "|    2Y    |    5.00%    | 4.50% |\n",
    "|    3Y    |    6.00%    | 5.30% |\n",
    "\n",
    "(Table generated with [TablesGenerator](https://www.tablesgenerator.com/markdown_tables))"
   ]
  },
  {
   "attachments": {},
   "cell_type": "markdown",
   "metadata": {},
   "source": [
    "#### Task: Calculate the spot rates."
   ]
  },
  {
   "cell_type": "code",
   "execution_count": null,
   "metadata": {},
   "outputs": [],
   "source": []
  },
  {
   "attachments": {},
   "cell_type": "markdown",
   "metadata": {},
   "source": [
    "#### Task: Calculate the implied forward rates. \n",
    "\n",
    "(Hint: the one year spot rate for the swap cash flow is taken from the single curve approach.)\n"
   ]
  },
  {
   "cell_type": "code",
   "execution_count": null,
   "metadata": {},
   "outputs": [],
   "source": []
  },
  {
   "attachments": {},
   "cell_type": "markdown",
   "metadata": {},
   "source": [
    "#### Task: Calculate the forward swap in one for two.\n"
   ]
  },
  {
   "cell_type": "code",
   "execution_count": null,
   "metadata": {},
   "outputs": [],
   "source": []
  },
  {
   "attachments": {},
   "cell_type": "markdown",
   "metadata": {},
   "source": [
    "### Part 5: Interest rate parity / FX forward"
   ]
  },
  {
   "attachments": {},
   "cell_type": "markdown",
   "metadata": {},
   "source": [
    "#### Task: Calculate the one year (365 days) FX swap forward using covered interest rate parity. \n",
    "* Spot = 1,3193 \n",
    "* USD interest = 1,05310%\n",
    "* EUR interest = 1,4375%"
   ]
  },
  {
   "cell_type": "code",
   "execution_count": null,
   "metadata": {},
   "outputs": [],
   "source": []
  },
  {
   "attachments": {},
   "cell_type": "markdown",
   "metadata": {},
   "source": [
    "#### Task: Mark to market the following cross currency swap.\n",
    "\n",
    "The term structure of interest rates is flat at 6% in USD and 8% in EUR (continuous rates). The current exchange rate is 1.5625 EURUSD. You pay 7% in EUR and receive 3% in USD, with principals being USD 15mln and EUR 25mln. Payments are exchanged annually with 3 payments left (3 years to maturity)."
   ]
  },
  {
   "cell_type": "code",
   "execution_count": null,
   "metadata": {},
   "outputs": [],
   "source": []
  }
 ],
 "metadata": {
  "kernelspec": {
   "display_name": "Python 3 (ipykernel)",
   "language": "python",
   "name": "python3"
  },
  "language_info": {
   "codemirror_mode": {
    "name": "ipython",
    "version": 3
   },
   "file_extension": ".py",
   "mimetype": "text/x-python",
   "name": "python",
   "nbconvert_exporter": "python",
   "pygments_lexer": "ipython3",
   "version": "3.9.12"
  }
 },
 "nbformat": 4,
 "nbformat_minor": 2
}
