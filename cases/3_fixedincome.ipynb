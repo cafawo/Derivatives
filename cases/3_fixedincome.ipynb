{
 "cells": [
  {
   "attachments": {},
   "cell_type": "markdown",
   "metadata": {},
   "source": [
    "![image-3.png](https://github.com/cafawo/Derivatives/blob/main/figures/fscampus_small.png?raw=1)\n",
    "\n",
    "# Derivatives\n",
    "\n",
    "[**Prof. Dr. Fabian Woebbeking**](https://woebbeking.info/)</br>\n",
    "Assistant Professor of Financial Economics</br>"
   ]
  },
  {
   "attachments": {},
   "cell_type": "markdown",
   "metadata": {},
   "source": [
    "## Case 3: Fixed Income"
   ]
  },
  {
   "attachments": {},
   "cell_type": "markdown",
   "metadata": {},
   "source": [
    "### Part 1: Interest rates\n",
    "\n",
    "The following 3 zero bonds are given:\n",
    "\n",
    "| Maturity | Price | Redemption |\n",
    "|:--------:|:-----:|:----------:|\n",
    "|    1Y    | 95.24 |     100    |\n",
    "|    2Y    | 89.00 |     100    |\n",
    "|    3Y    | 81.63 |     100    |\n",
    "\n",
    "(Table generated with [TablesGenerator](https://www.tablesgenerator.com/markdown_tables))"
   ]
  },
  {
   "attachments": {},
   "cell_type": "markdown",
   "metadata": {},
   "source": [
    "#### Task: Calculate spot and forward rates."
   ]
  },
  {
   "attachments": {},
   "cell_type": "markdown",
   "metadata": {},
   "source": [
    "#### Task: Price a three year 10% bond. Calculate the YTM and explain the relationship of the spot rates and the YTM."
   ]
  },
  {
   "attachments": {},
   "cell_type": "markdown",
   "metadata": {},
   "source": [
    "#### Task: Solve analytically and calculate the par coupon rate for a three year bond."
   ]
  },
  {
   "cell_type": "markdown",
   "metadata": {},
   "source": [
    "#### Task: Evaluate with the same curve, a three year floater against the one year rate (bond base). ... For the fans :)"
   ]
  },
  {
   "attachments": {},
   "cell_type": "markdown",
   "metadata": {},
   "source": [
    "### Part 2: Asset-/ liability-swap"
   ]
  },
  {
   "attachments": {},
   "cell_type": "markdown",
   "metadata": {},
   "source": [
    "#### Task: Calculate the level of the floating debt (liability swap).\n",
    "\n",
    "Power has issued a five year bond with a coupon of 2% and a price of 100.50. The five year IRS is quoted 2,00 – 2,05 against six month EURIBOR. "
   ]
  },
  {
   "attachments": {},
   "cell_type": "markdown",
   "metadata": {},
   "source": [
    "#### Task: Calculate the asset swap.\n",
    "\n",
    "The Investor has bought a five year AA Bond with a coupon of 3% for 101,00. The 5 Y IRS quotes 2,00 -2,05 against 6M Euribor. "
   ]
  },
  {
   "attachments": {},
   "cell_type": "markdown",
   "metadata": {},
   "source": [
    "### Part 3: Single curve\n",
    "\n",
    "The following swap rates are given: \n",
    "\n",
    "| Maturity | 12M Euribor | Eonia |\n",
    "|:--------:|:-----------:|:-----:|\n",
    "|    1Y    |    4.00%    | 3.30% |\n",
    "|    2Y    |    5.00%    | 4.50% |\n",
    "|    3Y    |    6.00%    | 5.30% |\n",
    "\n",
    "(Tables generated with [TablesGenerator](https://www.tablesgenerator.com/markdown_tables))"
   ]
  },
  {
   "attachments": {},
   "cell_type": "markdown",
   "metadata": {},
   "source": [
    "#### Task: Bootstrap discount factors and spot rates using the single curve approach."
   ]
  },
  {
   "attachments": {},
   "cell_type": "markdown",
   "metadata": {},
   "source": [
    "#### Task: Price a three year swap against the one year rate using the single curve approach."
   ]
  },
  {
   "attachments": {},
   "cell_type": "markdown",
   "metadata": {},
   "source": [
    "#### Task: Price the forward swap in one for two. Show that the result is correct and compare it to the zero rate in one for two using the single curve approach. "
   ]
  },
  {
   "attachments": {},
   "cell_type": "markdown",
   "metadata": {},
   "source": [
    "#### Task: Mark to market a swap, 8% against 12M Euribor with a remaining maturity of 3 years and EUR 100mln notional."
   ]
  },
  {
   "attachments": {},
   "cell_type": "markdown",
   "metadata": {},
   "source": [
    "### Part 4: Multi curve\n",
    "\n",
    "Consider a three year swap against the one year rate using the multi curve approach. The following swap rates are given: \n",
    "\n",
    "| Maturity | 12M Euribor | Eonia |\n",
    "|:--------:|:-----------:|:-----:|\n",
    "|    1Y    |    4.00%    | 3.30% |\n",
    "|    2Y    |    5.00%    | 4.50% |\n",
    "|    3Y    |    6.00%    | 5.30% |\n",
    "\n",
    "(Tables generated with [TablesGenerator](https://www.tablesgenerator.com/markdown_tables))"
   ]
  },
  {
   "attachments": {},
   "cell_type": "markdown",
   "metadata": {},
   "source": [
    "#### Task: Calculate the spot rates."
   ]
  },
  {
   "attachments": {},
   "cell_type": "markdown",
   "metadata": {},
   "source": [
    "#### Task: Calculate the implied forward rates. \n",
    "\n",
    "(Hint: the one year spot rate for the swap cash flow is taken from the single curve approach.)\n"
   ]
  },
  {
   "attachments": {},
   "cell_type": "markdown",
   "metadata": {},
   "source": [
    "#### Task: Calculate the forward swap in one for two.\n"
   ]
  },
  {
   "attachments": {},
   "cell_type": "markdown",
   "metadata": {},
   "source": [
    "### Part 5: Interest rate parity / FX forward"
   ]
  },
  {
   "attachments": {},
   "cell_type": "markdown",
   "metadata": {},
   "source": [
    "#### Task: Calculate the one year (365 days) FX swap forward using covered interest rate parity. \n",
    "* Spot = 1.3193 \n",
    "* USD interest = 1.05310%\n",
    "* EUR interest = 1.4375%"
   ]
  },
  {
   "attachments": {},
   "cell_type": "markdown",
   "metadata": {},
   "source": [
    "#### Task: Mark to market the following cross currency swap.\n",
    "\n",
    "The term structure of interest rates is flat at 6% in USD and 8% in AUD (continuous rates). The current exchange rate is 0.64 USD per AUD. You pay 7% in AUD and receive 3% in USD, with principals being USD 15mln and AUD 25mln. Payments are exchanged annually with 3 payments left (3 years to maturity)."
   ]
  }
 ],
 "metadata": {
  "kernelspec": {
   "display_name": "Python 3 (ipykernel)",
   "language": "python",
   "name": "python3"
  },
  "language_info": {
   "codemirror_mode": {
    "name": "ipython",
    "version": 3
   },
   "file_extension": ".py",
   "mimetype": "text/x-python",
   "name": "python",
   "nbconvert_exporter": "python",
   "pygments_lexer": "ipython3",
   "version": "3.8.10"
  }
 },
 "nbformat": 4,
 "nbformat_minor": 2
}
