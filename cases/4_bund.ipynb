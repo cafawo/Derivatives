{
 "cells": [
  {
   "attachments": {},
   "cell_type": "markdown",
   "metadata": {},
   "source": [
    "![image-3.png](https://github.com/cafawo/Derivatives/blob/main/figures/derivatives_header.png?raw=1)\n",
    "\n",
    "# Derivatives\n",
    "\n",
    "[**Prof. Dr. Fabian Woebbeking**](https://woebbeking.info/)</br>\n",
    "Assistant Professor of Financial Economics</br>"
   ]
  },
  {
   "attachments": {},
   "cell_type": "markdown",
   "metadata": {},
   "source": [
    "## Case 4: Bund future and clearing mechanics"
   ]
  },
  {
   "attachments": {},
   "cell_type": "markdown",
   "metadata": {},
   "source": [
    "#### Task: Calculate the bund future cash flows.\n",
    "\n",
    "At an interest rate of 8% you enter into a long position of 2 Bund future contracts. The interest rate declines to 7% and you close the contract. Explain the resulting cash flows with an initial margin of 2000 € per contract. (The notional bond is the cheapest to deliver, the yield curve is flat.)"
   ]
  },
  {
   "attachments": {},
   "cell_type": "markdown",
   "metadata": {},
   "source": [
    "#### Task: Calculate the settlement payment.\n",
    "\n",
    "Zock is short a March 04 Future, The EDSP is 116,80 on 8.3.2004. Zock delivers on the 2004-03-10 the 4,5% Bundesanleihe with the maturity 2013-01-04. What is the payment he receives (Rounding on 100 nominal)?\n",
    "\n",
    "Hint: You will need the `class Bond():` (see derivatives.ipynb) or a similar bond pricing software to solve this and the following tasks."
   ]
  },
  {
   "attachments": {},
   "cell_type": "markdown",
   "metadata": {},
   "source": [
    "#### Task: Calculate the Implied Repo Rate.\n",
    "\n",
    "The Future quote is 116,80 and the bonds spot price is 105,20 (clean). We are trading Settlement on 2004-02-09 that means 30 days before the delivery of the future. What is the conclusion if the only other deliverable bond has an implied repo rate of 1,80%?"
   ]
  },
  {
   "attachments": {},
   "cell_type": "markdown",
   "metadata": {},
   "source": [
    "#### Task: Calculate the forward price for the delivery date of the future.\n",
    "\n",
    "We are still trading spot settlement on 2004-02-09. The 30 day money rate is 2%. "
   ]
  },
  {
   "attachments": {},
   "cell_type": "markdown",
   "metadata": {},
   "source": [
    "#### Task: Calculate the theoretical future price."
   ]
  },
  {
   "attachments": {},
   "cell_type": "markdown",
   "metadata": {},
   "source": [
    "#### Task: Calculate the basis point hedge.\n",
    "\n",
    "Calculate the basis point hedge for a nominal 10 million spot position of a 5% nine year bond, which currently has a YTM of 4,00%. You are hedging with the CTD from above (settlement 2004-02-09), which currently has a YTM of 3.7995%."
   ]
  }
 ],
 "metadata": {
  "kernelspec": {
   "display_name": "Python 3 (ipykernel)",
   "language": "python",
   "name": "python3"
  },
  "language_info": {
   "codemirror_mode": {
    "name": "ipython",
    "version": 3
   },
   "file_extension": ".py",
   "mimetype": "text/x-python",
   "name": "python",
   "nbconvert_exporter": "python",
   "pygments_lexer": "ipython3",
   "version": "3.8.10"
  }
 },
 "nbformat": 4,
 "nbformat_minor": 2
}
