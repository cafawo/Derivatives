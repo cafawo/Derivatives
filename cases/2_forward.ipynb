{
 "cells": [
  {
   "attachments": {},
   "cell_type": "markdown",
   "metadata": {},
   "source": [
    "![image-3.png](https://github.com/cafawo/Derivatives/blob/main/figures/derivatives_header.png?raw=1)\n",
    "\n",
    "# Derivatives\n",
    "\n",
    "[**Prof. Dr. Fabian Woebbeking**](https://woebbeking.info/)</br>\n",
    "Assistant Professor of Financial Economics</br>"
   ]
  },
  {
   "attachments": {},
   "cell_type": "markdown",
   "metadata": {},
   "source": [
    "## Case 2: Forward and hedging"
   ]
  },
  {
   "attachments": {},
   "cell_type": "markdown",
   "metadata": {},
   "source": [
    "### Part 1"
   ]
  },
  {
   "attachments": {},
   "cell_type": "markdown",
   "metadata": {},
   "source": [
    "#### Task: Evaluate a Forward with a maturity of half a year on a share with no dividend. The price is 60 with an exercise price of 55 the continuous rate is 4%."
   ]
  },
  {
   "cell_type": "code",
   "execution_count": 1,
   "metadata": {},
   "outputs": [],
   "source": [
    "# Your code"
   ]
  },
  {
   "attachments": {},
   "cell_type": "markdown",
   "metadata": {},
   "source": [
    "#### Task: Evaluate a 1 year forward with exercise price 910 on a share with a spot price of 900 and dividend payment of 60 in 6 months and in 12 months. The continuous six month rate is 9% the one year continuous rate is 10%."
   ]
  },
  {
   "cell_type": "code",
   "execution_count": 2,
   "metadata": {},
   "outputs": [],
   "source": [
    "# Your code"
   ]
  },
  {
   "attachments": {},
   "cell_type": "markdown",
   "metadata": {},
   "source": [
    "#### Evaluate a six month forward with strike 27 on a share with spot price 25 and a continuous dividend yield of 4%. The six month continuous rate is 10%. Also calculate the forward price."
   ]
  },
  {
   "cell_type": "code",
   "execution_count": 3,
   "metadata": {},
   "outputs": [],
   "source": [
    "# Your code"
   ]
  },
  {
   "attachments": {},
   "cell_type": "markdown",
   "metadata": {},
   "source": [
    "#### Task: Analyze a one year forward on a share (no dividends) with a spot price of 40. The continuous rate is 10%.\n",
    "\n",
    "1. \tCalculate the forward price and the value of the contract at the start. \n",
    "\n",
    "2. \tSix months later is the spot price 45. Calculate the new forward price and the value of the old contract.\n"
   ]
  },
  {
   "cell_type": "code",
   "execution_count": 4,
   "metadata": {},
   "outputs": [],
   "source": [
    "# Your code"
   ]
  },
  {
   "attachments": {},
   "cell_type": "markdown",
   "metadata": {},
   "source": [
    "#### Task: Explain the cost of carry and convenience yield."
   ]
  },
  {
   "cell_type": "markdown",
   "metadata": {},
   "source": []
  },
  {
   "attachments": {},
   "cell_type": "markdown",
   "metadata": {},
   "source": [
    "### Part 2\n",
    "\n",
    "This part is concerned with hedging. For the number crunching we use NumPy:\n",
    "\n",
    "> NumPy is the fundamental package for scientific computing with Python. ([see NumPy documentation](https://numpy.org/))\n",
    "\n",
    "For the data wrangling we use Pandas:\n",
    "\n",
    "> Pandas is an open source, BSD-licensed library providing high-performance, easy-to-use data structures and data analysis tools for the Python programming language. ([see pandas documentation](https://pandas.pydata.org/docs/index.html))"
   ]
  },
  {
   "cell_type": "code",
   "execution_count": 5,
   "metadata": {},
   "outputs": [
    {
     "data": {
      "text/html": [
       "<div>\n",
       "<style scoped>\n",
       "    .dataframe tbody tr th:only-of-type {\n",
       "        vertical-align: middle;\n",
       "    }\n",
       "\n",
       "    .dataframe tbody tr th {\n",
       "        vertical-align: top;\n",
       "    }\n",
       "\n",
       "    .dataframe thead th {\n",
       "        text-align: right;\n",
       "    }\n",
       "</style>\n",
       "<table border=\"1\" class=\"dataframe\">\n",
       "  <thead>\n",
       "    <tr style=\"text-align: right;\">\n",
       "      <th></th>\n",
       "      <th>volume_BTC</th>\n",
       "      <th>open_BTC</th>\n",
       "      <th>low_BTC</th>\n",
       "      <th>high_BTC</th>\n",
       "      <th>close_BTC</th>\n",
       "      <th>volume_ETH</th>\n",
       "      <th>open_ETH</th>\n",
       "      <th>low_ETH</th>\n",
       "      <th>high_ETH</th>\n",
       "      <th>close_ETH</th>\n",
       "      <th>ret_BTC</th>\n",
       "      <th>ret_ETH</th>\n",
       "      <th>logret_BTC</th>\n",
       "      <th>logret_ETH</th>\n",
       "    </tr>\n",
       "  </thead>\n",
       "  <tbody>\n",
       "    <tr>\n",
       "      <th>2023-01-01</th>\n",
       "      <td>2775.514873</td>\n",
       "      <td>16519.0</td>\n",
       "      <td>16497.0</td>\n",
       "      <td>16771.5</td>\n",
       "      <td>16714.0</td>\n",
       "      <td>30710.64956</td>\n",
       "      <td>1194.30</td>\n",
       "      <td>1192.55</td>\n",
       "      <td>1220.05</td>\n",
       "      <td>1212.45</td>\n",
       "      <td>NaN</td>\n",
       "      <td>NaN</td>\n",
       "      <td>NaN</td>\n",
       "      <td>NaN</td>\n",
       "    </tr>\n",
       "    <tr>\n",
       "      <th>2023-01-02</th>\n",
       "      <td>4196.490738</td>\n",
       "      <td>16714.0</td>\n",
       "      <td>16646.5</td>\n",
       "      <td>16788.5</td>\n",
       "      <td>16730.5</td>\n",
       "      <td>62574.24303</td>\n",
       "      <td>1212.75</td>\n",
       "      <td>1211.60</td>\n",
       "      <td>1223.20</td>\n",
       "      <td>1216.55</td>\n",
       "      <td>0.000987</td>\n",
       "      <td>0.003382</td>\n",
       "      <td>0.000987</td>\n",
       "      <td>0.003376</td>\n",
       "    </tr>\n",
       "    <tr>\n",
       "      <th>2023-01-03</th>\n",
       "      <td>5270.260175</td>\n",
       "      <td>16730.0</td>\n",
       "      <td>16603.5</td>\n",
       "      <td>16903.0</td>\n",
       "      <td>16876.0</td>\n",
       "      <td>93092.93577</td>\n",
       "      <td>1216.55</td>\n",
       "      <td>1204.65</td>\n",
       "      <td>1255.60</td>\n",
       "      <td>1252.60</td>\n",
       "      <td>0.008697</td>\n",
       "      <td>0.029633</td>\n",
       "      <td>0.008659</td>\n",
       "      <td>0.029202</td>\n",
       "    </tr>\n",
       "    <tr>\n",
       "      <th>2023-01-04</th>\n",
       "      <td>5571.352194</td>\n",
       "      <td>16875.5</td>\n",
       "      <td>16759.5</td>\n",
       "      <td>16988.0</td>\n",
       "      <td>16820.5</td>\n",
       "      <td>70631.16868</td>\n",
       "      <td>1252.65</td>\n",
       "      <td>1243.45</td>\n",
       "      <td>1271.95</td>\n",
       "      <td>1251.25</td>\n",
       "      <td>-0.003289</td>\n",
       "      <td>-0.001078</td>\n",
       "      <td>-0.003294</td>\n",
       "      <td>-0.001078</td>\n",
       "    </tr>\n",
       "    <tr>\n",
       "      <th>2023-01-05</th>\n",
       "      <td>5572.717440</td>\n",
       "      <td>16820.5</td>\n",
       "      <td>16752.5</td>\n",
       "      <td>16873.0</td>\n",
       "      <td>16783.0</td>\n",
       "      <td>63309.29345</td>\n",
       "      <td>1251.20</td>\n",
       "      <td>1240.45</td>\n",
       "      <td>1258.00</td>\n",
       "      <td>1247.80</td>\n",
       "      <td>-0.002229</td>\n",
       "      <td>-0.002757</td>\n",
       "      <td>-0.002232</td>\n",
       "      <td>-0.002761</td>\n",
       "    </tr>\n",
       "  </tbody>\n",
       "</table>\n",
       "</div>"
      ],
      "text/plain": [
       "             volume_BTC  open_BTC  low_BTC  high_BTC  close_BTC   volume_ETH  \\\n",
       "2023-01-01  2775.514873   16519.0  16497.0   16771.5    16714.0  30710.64956   \n",
       "2023-01-02  4196.490738   16714.0  16646.5   16788.5    16730.5  62574.24303   \n",
       "2023-01-03  5270.260175   16730.0  16603.5   16903.0    16876.0  93092.93577   \n",
       "2023-01-04  5571.352194   16875.5  16759.5   16988.0    16820.5  70631.16868   \n",
       "2023-01-05  5572.717440   16820.5  16752.5   16873.0    16783.0  63309.29345   \n",
       "\n",
       "            open_ETH  low_ETH  high_ETH  close_ETH   ret_BTC   ret_ETH  \\\n",
       "2023-01-01   1194.30  1192.55   1220.05    1212.45       NaN       NaN   \n",
       "2023-01-02   1212.75  1211.60   1223.20    1216.55  0.000987  0.003382   \n",
       "2023-01-03   1216.55  1204.65   1255.60    1252.60  0.008697  0.029633   \n",
       "2023-01-04   1252.65  1243.45   1271.95    1251.25 -0.003289 -0.001078   \n",
       "2023-01-05   1251.20  1240.45   1258.00    1247.80 -0.002229 -0.002757   \n",
       "\n",
       "            logret_BTC  logret_ETH  \n",
       "2023-01-01         NaN         NaN  \n",
       "2023-01-02    0.000987    0.003376  \n",
       "2023-01-03    0.008659    0.029202  \n",
       "2023-01-04   -0.003294   -0.001078  \n",
       "2023-01-05   -0.002232   -0.002761  "
      ]
     },
     "metadata": {},
     "output_type": "display_data"
    }
   ],
   "source": [
    "import pandas as pd\n",
    "import numpy as np\n",
    "\n",
    "# Load some data into a data frame (df) that we call ohlc\n",
    "ohlc = pd.read_csv('https://github.com/cafawo/Derivatives/blob/main/cases/2_forwards_data.csv?raw=1', index_col=0, parse_dates=True)\n",
    "\n",
    "# Arithmetic returns\n",
    "ohlc['ret_BTC'] = ohlc['close_BTC'] / ohlc['close_BTC'].shift(1) - 1\n",
    "ohlc['ret_ETH'] = ohlc['close_ETH'] / ohlc['close_ETH'].shift(1) - 1\n",
    "# Log returns\n",
    "ohlc['logret_BTC'] = np.log(ohlc['close_BTC']) - np.log(ohlc['close_BTC'].shift(1))\n",
    "ohlc['logret_ETH'] = np.log(ohlc['close_ETH']) - np.log(ohlc['close_ETH'].shift(1))\n",
    "\n",
    "# Show the first 5 values in our data frame\n",
    "display(ohlc.head(5))\n",
    "# There are naturally NaNs from the return calculations, which we remove\n",
    "ohlc.dropna(inplace=True)"
   ]
  },
  {
   "cell_type": "code",
   "execution_count": 6,
   "metadata": {},
   "outputs": [
    {
     "data": {
      "text/plain": [
       "<Axes: >"
      ]
     },
     "execution_count": 6,
     "metadata": {},
     "output_type": "execute_result"
    },
    {
     "data": {
      "image/png": "[encoded data removed]",
      "text/plain": [
       "<Figure size 640x480 with 1 Axes>"
      ]
     },
     "metadata": {},
     "output_type": "display_data"
    }
   ],
   "source": [
    "# You can access specific column(s) in the df\n",
    "ohlc[['high_BTC', 'low_BTC']].plot()"
   ]
  },
  {
   "cell_type": "code",
   "execution_count": 7,
   "metadata": {},
   "outputs": [
    {
     "name": "stdout",
     "output_type": "stream",
     "text": [
      "BTC daily mu:  0.7044%\n",
      "BTC daily vol: 3.2046%\n"
     ]
    }
   ],
   "source": [
    "# Mean\n",
    "btc_mu = np.mean(ohlc['ret_BTC'])\n",
    "print(f\"BTC daily mu:  {btc_mu * 100:,.4f}%\")\n",
    "# Standard deviation\n",
    "btc_std = np.std(ohlc['ret_BTC'])\n",
    "print(f\"BTC daily vol: {btc_std * 100:,.4f}%\")"
   ]
  },
  {
   "attachments": {},
   "cell_type": "markdown",
   "metadata": {},
   "source": [
    "#### Task: Use the data in `ohlc` to calculate the a hedge ratio between the two assets."
   ]
  },
  {
   "cell_type": "code",
   "execution_count": 8,
   "metadata": {},
   "outputs": [],
   "source": [
    "# Hint: adopt the code from above, you can also find relevant calculations in derivatives.ipynb\n",
    "\n",
    "# Your code"
   ]
  },
  {
   "attachments": {},
   "cell_type": "markdown",
   "metadata": {},
   "source": [
    "#### Task: Explain and interpret your results (plots always help)."
   ]
  },
  {
   "cell_type": "markdown",
   "metadata": {},
   "source": []
  }
 ],
 "metadata": {
  "kernelspec": {
   "display_name": "base",
   "language": "python",
   "name": "python3"
  },
  "language_info": {
   "codemirror_mode": {
    "name": "ipython",
    "version": 3
   },
   "file_extension": ".py",
   "mimetype": "text/x-python",
   "name": "python",
   "nbconvert_exporter": "python",
   "pygments_lexer": "ipython3",
   "version": "3.12.4"
  }
 },
 "nbformat": 4,
 "nbformat_minor": 2
}
