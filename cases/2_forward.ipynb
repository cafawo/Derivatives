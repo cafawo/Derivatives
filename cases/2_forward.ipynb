{
 "cells": [
  {
   "attachments": {},
   "cell_type": "markdown",
   "metadata": {},
   "source": [
    "![image-3.png](https://github.com/cafawo/Derivatives/blob/main/figures/fscampus_small.png?raw=1)\n",
    "\n",
    "# Derivatives\n",
    "\n",
    "**Prof. Dr. Fabian Woebbeking**</br>\n",
    "Assistant Professor of Financial Economics\n",
    "\n",
    "IWH - Leibniz Institute for Economic Research</br>\n",
    "Frankfurt School of Finance & Management\n",
    "\n",
    "fabian.woebbeking@dozent.frankfurt-school.de"
   ]
  },
  {
   "attachments": {},
   "cell_type": "markdown",
   "metadata": {},
   "source": [
    "## Case 2: Forward and hedging"
   ]
  },
  {
   "attachments": {},
   "cell_type": "markdown",
   "metadata": {},
   "source": [
    "### Part 1"
   ]
  },
  {
   "attachments": {},
   "cell_type": "markdown",
   "metadata": {},
   "source": [
    "#### Task: Evaluate a Forward with a maturity of half a year on a share with no dividend. The price is 60 with an exercise price of 55 the continuous rate is 4%."
   ]
  },
  {
   "cell_type": "code",
   "execution_count": 1,
   "metadata": {},
   "outputs": [],
   "source": [
    "# Your code"
   ]
  },
  {
   "attachments": {},
   "cell_type": "markdown",
   "metadata": {},
   "source": [
    "#### Task: Evaluate a 1 year forward with exercise price 910 on a share with a spot price of 900 and dividend payment of 60 in 6 months and in 12 months. The continuous six month rate is 9% the one year continuous rate is 10%."
   ]
  },
  {
   "cell_type": "code",
   "execution_count": 2,
   "metadata": {},
   "outputs": [],
   "source": [
    "# Your code"
   ]
  },
  {
   "attachments": {},
   "cell_type": "markdown",
   "metadata": {},
   "source": [
    "#### Task: Analyze a one year forward on a share (no dividends) with a spot price of 40. The continuous rate is 10%.\n",
    "\n",
    "1. \tCalculate the forward price and the value of the contract at the start. \n",
    "\n",
    "2. \tSix months later is the spot price 45. Calculate the new forward price and the value of the old contract.\n"
   ]
  },
  {
   "cell_type": "code",
   "execution_count": 3,
   "metadata": {},
   "outputs": [],
   "source": [
    "# Your code"
   ]
  },
  {
   "attachments": {},
   "cell_type": "markdown",
   "metadata": {},
   "source": [
    "#### Task: Explain the cost of carry and convenience yield."
   ]
  },
  {
   "cell_type": "markdown",
   "metadata": {},
   "source": []
  },
  {
   "attachments": {},
   "cell_type": "markdown",
   "metadata": {},
   "source": [
    "### Part 2\n",
    "\n",
    "This part is concerned with hedging. For the number crunching we use NumPy:\n",
    "\n",
    "> NumPy is the fundamental package for scientific computing with Python. ([see NumPy documentation](https://numpy.org/))\n",
    "\n",
    "For the data wrangling we use Pandas:\n",
    "\n",
    "> Pandas is an open source, BSD-licensed library providing high-performance, easy-to-use data structures and data analysis tools for the Python programming language. ([see pandas documentation](https://pandas.pydata.org/docs/index.html))"
   ]
  },
  {
   "cell_type": "code",
   "execution_count": 4,
   "metadata": {},
   "outputs": [
    {
     "data": {
      "text/html": [
       "<div>\n",
       "<style scoped>\n",
       "    .dataframe tbody tr th:only-of-type {\n",
       "        vertical-align: middle;\n",
       "    }\n",
       "\n",
       "    .dataframe tbody tr th {\n",
       "        vertical-align: top;\n",
       "    }\n",
       "\n",
       "    .dataframe thead th {\n",
       "        text-align: right;\n",
       "    }\n",
       "</style>\n",
       "<table border=\"1\" class=\"dataframe\">\n",
       "  <thead>\n",
       "    <tr style=\"text-align: right;\">\n",
       "      <th></th>\n",
       "      <th>volume_BTC</th>\n",
       "      <th>open_BTC</th>\n",
       "      <th>low_BTC</th>\n",
       "      <th>high_BTC</th>\n",
       "      <th>close_BTC</th>\n",
       "      <th>volume_ETH</th>\n",
       "      <th>open_ETH</th>\n",
       "      <th>low_ETH</th>\n",
       "      <th>high_ETH</th>\n",
       "      <th>close_ETH</th>\n",
       "    </tr>\n",
       "  </thead>\n",
       "  <tbody>\n",
       "    <tr>\n",
       "      <th>2023-03-19</th>\n",
       "      <td>19886.47020</td>\n",
       "      <td>27043.5</td>\n",
       "      <td>26950.5</td>\n",
       "      <td>28500.0</td>\n",
       "      <td>28285.0</td>\n",
       "      <td>166399.9406</td>\n",
       "      <td>1779.40</td>\n",
       "      <td>1743.50</td>\n",
       "      <td>1848.00</td>\n",
       "      <td>1797.00</td>\n",
       "    </tr>\n",
       "    <tr>\n",
       "      <th>2023-03-20</th>\n",
       "      <td>20323.53449</td>\n",
       "      <td>28285.0</td>\n",
       "      <td>27400.0</td>\n",
       "      <td>28590.5</td>\n",
       "      <td>27599.0</td>\n",
       "      <td>135880.3977</td>\n",
       "      <td>1796.95</td>\n",
       "      <td>1725.00</td>\n",
       "      <td>1808.90</td>\n",
       "      <td>1736.70</td>\n",
       "    </tr>\n",
       "    <tr>\n",
       "      <th>2023-03-21</th>\n",
       "      <td>14438.74407</td>\n",
       "      <td>27599.5</td>\n",
       "      <td>27491.0</td>\n",
       "      <td>28547.5</td>\n",
       "      <td>28167.0</td>\n",
       "      <td>151116.8061</td>\n",
       "      <td>1736.70</td>\n",
       "      <td>1731.85</td>\n",
       "      <td>1841.35</td>\n",
       "      <td>1797.45</td>\n",
       "    </tr>\n",
       "    <tr>\n",
       "      <th>2023-03-22</th>\n",
       "      <td>30887.40161</td>\n",
       "      <td>28167.0</td>\n",
       "      <td>26657.5</td>\n",
       "      <td>28960.0</td>\n",
       "      <td>27723.5</td>\n",
       "      <td>197355.8003</td>\n",
       "      <td>1797.50</td>\n",
       "      <td>1714.15</td>\n",
       "      <td>1824.50</td>\n",
       "      <td>1756.10</td>\n",
       "    </tr>\n",
       "    <tr>\n",
       "      <th>2023-03-23</th>\n",
       "      <td>23981.72001</td>\n",
       "      <td>27723.5</td>\n",
       "      <td>27344.0</td>\n",
       "      <td>28860.0</td>\n",
       "      <td>28349.5</td>\n",
       "      <td>216759.8473</td>\n",
       "      <td>1756.15</td>\n",
       "      <td>1746.15</td>\n",
       "      <td>1862.30</td>\n",
       "      <td>1818.80</td>\n",
       "    </tr>\n",
       "  </tbody>\n",
       "</table>\n",
       "</div>"
      ],
      "text/plain": [
       "             volume_BTC  open_BTC  low_BTC  high_BTC  close_BTC   volume_ETH  \\\n",
       "2023-03-19  19886.47020   27043.5  26950.5   28500.0    28285.0  166399.9406   \n",
       "2023-03-20  20323.53449   28285.0  27400.0   28590.5    27599.0  135880.3977   \n",
       "2023-03-21  14438.74407   27599.5  27491.0   28547.5    28167.0  151116.8061   \n",
       "2023-03-22  30887.40161   28167.0  26657.5   28960.0    27723.5  197355.8003   \n",
       "2023-03-23  23981.72001   27723.5  27344.0   28860.0    28349.5  216759.8473   \n",
       "\n",
       "            open_ETH  low_ETH  high_ETH  close_ETH  \n",
       "2023-03-19   1779.40  1743.50   1848.00    1797.00  \n",
       "2023-03-20   1796.95  1725.00   1808.90    1736.70  \n",
       "2023-03-21   1736.70  1731.85   1841.35    1797.45  \n",
       "2023-03-22   1797.50  1714.15   1824.50    1756.10  \n",
       "2023-03-23   1756.15  1746.15   1862.30    1818.80  "
      ]
     },
     "execution_count": 4,
     "metadata": {},
     "output_type": "execute_result"
    }
   ],
   "source": [
    "import pandas as pd\n",
    "\n",
    "# Let's load some data into a data frame (df) that we call ohlc\n",
    "ohlc = pd.read_csv('https://github.com/cafawo/Derivatives/blob/main/cases/2_forwards_data.csv?raw=1', index_col=0, parse_dates=True)\n",
    "# Show the last 5 values in our data frame\n",
    "ohlc.tail(5)"
   ]
  },
  {
   "cell_type": "code",
   "execution_count": 5,
   "metadata": {},
   "outputs": [
    {
     "data": {
      "text/plain": [
       "<AxesSubplot:>"
      ]
     },
     "execution_count": 5,
     "metadata": {},
     "output_type": "execute_result"
    },
    {
     "data": {
      "image/png": "[encoded data removed]",
      "text/plain": [
       "<Figure size 640x480 with 1 Axes>"
      ]
     },
     "metadata": {},
     "output_type": "display_data"
    }
   ],
   "source": [
    "# You can access specific column(s) in the df\n",
    "ohlc[['high_BTC', 'low_BTC']].plot()"
   ]
  },
  {
   "cell_type": "code",
   "execution_count": 6,
   "metadata": {},
   "outputs": [
    {
     "name": "stdout",
     "output_type": "stream",
     "text": [
      "BTC daily mu:  0.7044%\n",
      "BTC daily vol: 3.2046%\n"
     ]
    }
   ],
   "source": [
    "import numpy as np\n",
    "\n",
    "# Arithmetic returns\n",
    "ohlc['ret_close_BTC'] = ohlc['close_BTC'] / ohlc['close_BTC'].shift(1) - 1\n",
    "# Log returns\n",
    "ohlc['logret_close_BTC'] = np.log(ohlc['close_BTC']) - np.log(ohlc['close_BTC'].shift(1))\n",
    "\n",
    "# Mean\n",
    "btc_mu = np.mean(ohlc['ret_close_BTC'])\n",
    "print(f\"BTC daily mu:  {btc_mu * 100:,.4f}%\")\n",
    "# Standard deviation\n",
    "btc_std = np.std(ohlc['ret_close_BTC'])\n",
    "print(f\"BTC daily vol: {btc_std * 100:,.4f}%\")"
   ]
  },
  {
   "attachments": {},
   "cell_type": "markdown",
   "metadata": {},
   "source": [
    "#### Task: Use the data in `ohlc` to calculate the a hedge ratio between the two assets."
   ]
  },
  {
   "cell_type": "code",
   "execution_count": 7,
   "metadata": {},
   "outputs": [],
   "source": [
    "# Hint: adopt the code from above, you can also find relevant calculations in derivatives.ipynb\n",
    "\n",
    "# Your code"
   ]
  },
  {
   "attachments": {},
   "cell_type": "markdown",
   "metadata": {},
   "source": [
    "#### Task: Explain and interpret your results (plots always help)."
   ]
  },
  {
   "cell_type": "markdown",
   "metadata": {},
   "source": []
  }
 ],
 "metadata": {
  "kernelspec": {
   "display_name": "Python 3 (ipykernel)",
   "language": "python",
   "name": "python3"
  },
  "language_info": {
   "codemirror_mode": {
    "name": "ipython",
    "version": 3
   },
   "file_extension": ".py",
   "mimetype": "text/x-python",
   "name": "python",
   "nbconvert_exporter": "python",
   "pygments_lexer": "ipython3",
   "version": "3.8.10"
  }
 },
 "nbformat": 4,
 "nbformat_minor": 2
}
