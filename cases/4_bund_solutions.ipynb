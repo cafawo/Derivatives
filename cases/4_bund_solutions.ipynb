{
 "cells": [
  {
   "attachments": {},
   "cell_type": "markdown",
   "metadata": {},
   "source": [
    "![image-3.png](https://github.com/cafawo/Derivatives/blob/main/figures/fscampus_small.png?raw=1)\n",
    "\n",
    "# Derivatives\n",
    "\n",
    "[**Prof. Dr. Fabian Woebbeking**](https://woebbeking.info/)</br>\n",
    "Assistant Professor of Financial Economics</br>"
   ]
  },
  {
   "attachments": {},
   "cell_type": "markdown",
   "metadata": {},
   "source": [
    "## Case 4: Bund future and clearing mechanics"
   ]
  },
  {
   "attachments": {},
   "cell_type": "markdown",
   "metadata": {},
   "source": [
    "#### Task: Calculate the bund future cash flows.\n",
    "\n",
    "At an interest rate of 8% you enter into a long position of 2 Bund future contracts. The interest rate declines to 7% and you close the contract. Explain the resulting cash flows with an initial margin of 2000 € per contract. (The notional bond is the cheapest to deliver, the yield curve is flat.)"
   ]
  },
  {
   "cell_type": "code",
   "execution_count": 14,
   "metadata": {},
   "outputs": [
    {
     "name": "stdout",
     "output_type": "stream",
     "text": [
      "###############################################################################\n",
      "t0: initial margin = EUR -4,000.00\n",
      "t0: pnl            = EUR 0.00\n",
      "t1: total          = EUR -4,000.00\n",
      "###############################################################################\n",
      "t1: initial margin = EUR 4,000.00\n",
      "t1: pnl            = EUR 12,800.00\n",
      "t1: total          = EUR 16,800.00\n"
     ]
    }
   ],
   "source": [
    "import numpy as np\n",
    "\n",
    "def bond_price(ytm:float, cpn:float=0.06, maturity:int=10):\n",
    "    return cpn*sum(1/(1+ytm)**np.array(range(1, maturity+1))) + 1/(1+ytm)**maturity\n",
    "\n",
    "\n",
    "initial_margin = 4000\n",
    "print('#'*79)\n",
    "print(f\"t0: initial margin = EUR {-initial_margin:,.2f}\")\n",
    "print(f\"t0: pnl            = EUR {0:,.2f}\")\n",
    "print(f\"t1: total          = EUR {- initial_margin:,.2f}\")\n",
    "\n",
    "# Bund future tick size is 0.01 (price), hence, round:\n",
    "delta_mtm = round(bond_price(0.07) - bond_price(0.08), 4)  # New minus old price\n",
    "delta_position = delta_mtm * 100000 * 2\n",
    "\n",
    "print('#'*79)\n",
    "print(f\"t1: initial margin = EUR {initial_margin:,.2f}\")\n",
    "print(f\"t1: pnl            = EUR {delta_position:,.2f}\")\n",
    "print(f\"t1: total          = EUR {delta_position + initial_margin:,.2f}\")"
   ]
  },
  {
   "attachments": {},
   "cell_type": "markdown",
   "metadata": {},
   "source": [
    "#### Task: Calculate the settlement payment.\n",
    "\n",
    "Zock is short a March 04 Future, The EDSP is 116,80 on 8.3.2004. Zock delivers on the 2004-03-10 the 4,5% Bundesanleihe with the maturity 2013-01-04. What is the payment he receives?\n",
    "\n",
    "Hint: You will need the `class Bond():` (see derivatives.ipynb) or a similar bond pricing software to solve this and the following tasks."
   ]
  },
  {
   "cell_type": "code",
   "execution_count": 15,
   "metadata": {},
   "outputs": [
    {
     "name": "stdout",
     "output_type": "stream",
     "text": [
      "Accrued interest: EUR 0.8115 per bond\n",
      "Conversion factor: 0.8993\n",
      "Settlement amount: EUR 105,854.85\n"
     ]
    }
   ],
   "source": [
    "import calendar\n",
    "from datetime import datetime\n",
    "from dateutil.relativedelta import relativedelta\n",
    "\n",
    "class Bond():\n",
    "    def __init__(self, settlement:str, maturity:str, coupon:float=0):\n",
    "        self.settlement = datetime.fromisoformat(settlement)\n",
    "        self.maturity = datetime.fromisoformat(maturity)\n",
    "        self.coupon = coupon\n",
    "        if self.coupon > 0:\n",
    "            # List of coupon payment days (ignoring modified following)\n",
    "            self.coupon_shedule = [self.maturity]\n",
    "            while True:\n",
    "                coupon_date = min(self.coupon_shedule) - relativedelta(years=1)\n",
    "                if coupon_date < self.settlement: break\n",
    "                self.coupon_shedule.append(coupon_date)\n",
    "            self.coupon_shedule.sort()\n",
    "            # The next element in the coupon shedule (accrued interest)\n",
    "            self.next_coupon = min(self.coupon_shedule)\n",
    "            self.previous_coupon = min(self.coupon_shedule) - relativedelta(years=1)\n",
    "            self.last_coupon = max(self.coupon_shedule)\n",
    "            # Accrued interest\n",
    "            self.accrued_period = self.actact(self.previous_coupon, self.settlement)\n",
    "            self.accrued = self.coupon * self.accrued_period\n",
    "            \n",
    "    def actact(self, start_date:datetime, end_date:datetime):\n",
    "        if start_date == end_date:\n",
    "            return 0.0\n",
    "        start_date = datetime.combine(start_date, datetime.min.time())\n",
    "        end_date = datetime.combine(end_date, datetime.min.time())\n",
    "        start_year = start_date.year\n",
    "        end_year = end_date.year\n",
    "        year_1_diff = 366 if calendar.isleap(start_year) else 365\n",
    "        year_2_diff = 366 if calendar.isleap(end_year) else 365\n",
    "        total_sum = end_year - start_year - 1\n",
    "        diff_first = datetime(start_year + 1, 1, 1) - start_date\n",
    "        total_sum += diff_first.days / year_1_diff\n",
    "        diff_second = end_date - datetime(end_year, 1, 1)\n",
    "        total_sum += diff_second.days / year_2_diff\n",
    "        return total_sum\n",
    "\n",
    "    def cleanprice(self, ytm:float=None):\n",
    "        price = 0\n",
    "        if self.coupon > 0:\n",
    "            for t in bond.coupon_shedule:\n",
    "                t_period = self.actact(self.settlement, t)\n",
    "                price += self.coupon * 1 / (1 + ytm) ** t_period\n",
    "            # Dirty price\n",
    "            price += 100 / (1 + ytm) ** t_period\n",
    "            # Clean price\n",
    "            return price - self.accrued\n",
    "        else:\n",
    "            price += 100 / (1 + ytm) ** self.actact(self.settlement, self.maturity)\n",
    "            return price\n",
    "    \n",
    "    def dirtyprice(self, ytm:float=None):\n",
    "        if self.coupon > 0:\n",
    "            return self.cleanprice(ytm) + self.accrued\n",
    "        else:\n",
    "            return self.cleanprice(ytm)\n",
    "        \n",
    "\n",
    "            \n",
    "bond = Bond(\"2004-03-10\", \"2013-01-04\", 4.5)\n",
    "print(f\"Accrued interest: EUR {bond.accrued:.4f} per bond\")\n",
    "\n",
    "edsp_conversion_factor = bond.cleanprice(0.06) / 100\n",
    "print(f\"Conversion factor: {edsp_conversion_factor:.4f}\")\n",
    "\n",
    "edsp_conversion_factor = bond.cleanprice(0.06) / 100\n",
    "print(f\"Settlement amount: EUR {(116.80 * edsp_conversion_factor + bond.accrued) * 1000:,.2f}\")"
   ]
  },
  {
   "attachments": {},
   "cell_type": "markdown",
   "metadata": {},
   "source": [
    "#### Task: Calculate the Implied Repo Rate.\n",
    "\n",
    "The Future quote is 116,80 and the bonds spot price is 105,20 (clean). We are trading Settlement on 2004-02-09 that means 30 days before the delivery of the future. What is the conclusion if the only other deliverable bond has an implied repo rate of 1,80%?"
   ]
  },
  {
   "cell_type": "code",
   "execution_count": 16,
   "metadata": {},
   "outputs": [
    {
     "name": "stdout",
     "output_type": "stream",
     "text": [
      "Implied repo: 2.41%\n"
     ]
    }
   ],
   "source": [
    "bond_ctd = Bond(\"2004-02-09\", \"2013-01-04\", 4.5)\n",
    "\n",
    "future_settlement = 116.80 * edsp_conversion_factor + bond.accrued\n",
    "dirty_price_today = 105.20 + bond_ctd.accrued\n",
    "implied_repo = (future_settlement - dirty_price_today) / (dirty_price_today * 30/360)\n",
    "\n",
    "print(f\"Implied repo: {implied_repo*100:.2f}%\")"
   ]
  },
  {
   "attachments": {},
   "cell_type": "markdown",
   "metadata": {},
   "source": [
    "#### Task: Calculate the forward price for the delivery date of the future.\n",
    "\n",
    "We are still trading spot settlement on 2004-02-09. The 30 day money rate is 2%. "
   ]
  },
  {
   "cell_type": "code",
   "execution_count": 17,
   "metadata": {},
   "outputs": [
    {
     "name": "stdout",
     "output_type": "stream",
     "text": [
      "Forward price: EUR 105.01\n"
     ]
    }
   ],
   "source": [
    "financing_costs = (105.20 + bond_ctd.accrued) * 0.02 * 30/360\n",
    "\n",
    "# Note that the carry portfolio has to hold the bond from 2004-02-09 until 2004-03-10\n",
    "accrued_difference = (bond.accrued - bond_ctd.accrued)\n",
    "\n",
    "forward_price = 105.20 + financing_costs - accrued_difference\n",
    "\n",
    "print(f\"Forward price: EUR {forward_price:.2f}\")"
   ]
  },
  {
   "attachments": {},
   "cell_type": "markdown",
   "metadata": {},
   "source": [
    "#### Task: Calculate the theoretical future price."
   ]
  },
  {
   "cell_type": "code",
   "execution_count": 18,
   "metadata": {},
   "outputs": [
    {
     "name": "stdout",
     "output_type": "stream",
     "text": [
      "Theoretical future price: EUR 116.76\n"
     ]
    }
   ],
   "source": [
    "theoretical_future_price = forward_price / edsp_conversion_factor\n",
    "\n",
    "print(f\"Theoretical future price: EUR {theoretical_future_price:.2f}\")"
   ]
  },
  {
   "attachments": {},
   "cell_type": "markdown",
   "metadata": {},
   "source": [
    "#### Task: Calculate the basis point hedge.\n",
    "\n",
    "Calculate the basis point hedge for a nominal 10 million spot position of a 5% nine year bond, which currently has a YTM of 4,00%. You are hedging with the CTD from above (settlement 2004-02-09), which currently has a YTM of 3.7995%."
   ]
  },
  {
   "cell_type": "code",
   "execution_count": 21,
   "metadata": {},
   "outputs": [
    {
     "name": "stdout",
     "output_type": "stream",
     "text": [
      "PV01 of the bond: EUR -0.077706\n",
      "PV01 of the CTD:  EUR -0.076693\n",
      "Basis point hedge ratio: 91.12\n"
     ]
    }
   ],
   "source": [
    "pv01_bond = (bond_price(0.04+0.0001, 0.05, 9) - bond_price(0.04, 0.05, 9)) * 100\n",
    "print(f\"PV01 of the bond: EUR {pv01_bond:.6f}\")\n",
    "\n",
    "pv01_ctd = (bond_ctd.cleanprice(0.037995 + 0.0001) - bond_ctd.cleanprice(0.037995))\n",
    "print(f\"PV01 of the CTD:  EUR {pv01_ctd:.6f}\")\n",
    "\n",
    "nominal_hedge = 10e+6 / 100000\n",
    "hedge_ratio = nominal_hedge * edsp_conversion_factor * pv01_bond / pv01_ctd\n",
    "print(f\"Basis point hedge ratio: {hedge_ratio:.2f}\")"
   ]
  }
 ],
 "metadata": {
  "kernelspec": {
   "display_name": "Python 3 (ipykernel)",
   "language": "python",
   "name": "python3"
  },
  "language_info": {
   "codemirror_mode": {
    "name": "ipython",
    "version": 3
   },
   "file_extension": ".py",
   "mimetype": "text/x-python",
   "name": "python",
   "nbconvert_exporter": "python",
   "pygments_lexer": "ipython3",
   "version": "3.9.12"
  }
 },
 "nbformat": 4,
 "nbformat_minor": 2
}
