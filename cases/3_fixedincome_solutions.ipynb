{
 "cells": [
  {
   "attachments": {},
   "cell_type": "markdown",
   "metadata": {},
   "source": [
    "![image-3.png](https://github.com/cafawo/Derivatives/blob/main/figures/fscampus_small.png?raw=1)\n",
    "\n",
    "# Derivatives\n",
    "\n",
    "**Prof. Dr. Fabian Woebbeking**</br>\n",
    "Assistant Professor of Financial Economics\n",
    "\n",
    "IWH - Leibniz Institute for Economic Research</br>\n",
    "Frankfurt School of Finance & Management\n",
    "\n",
    "fabian.woebbeking@dozent.frankfurt-school.de"
   ]
  },
  {
   "attachments": {},
   "cell_type": "markdown",
   "metadata": {},
   "source": [
    "## Case 3: Fixed Income"
   ]
  },
  {
   "attachments": {},
   "cell_type": "markdown",
   "metadata": {},
   "source": [
    "Case description ..."
   ]
  },
  {
   "attachments": {},
   "cell_type": "markdown",
   "metadata": {},
   "source": [
    "### Part 1: Basics\n",
    "\n",
    "The following 3 zero bonds are given:\n",
    "\n",
    "| Maturity | Price | Redemption |\n",
    "|:--------:|:-----:|:----------:|\n",
    "|    1Y    | 95.24 |     100    |\n",
    "|    2Y    | 89.00 |     100    |\n",
    "|    3Y    | 81.63 |     100    |\n",
    "\n",
    "(Table generated with [TablesGenerator](https://www.tablesgenerator.com/markdown_tables))"
   ]
  },
  {
   "attachments": {},
   "cell_type": "markdown",
   "metadata": {},
   "source": [
    "#### Task: Calculate spot and forward rates."
   ]
  },
  {
   "cell_type": "code",
   "execution_count": 156,
   "metadata": {},
   "outputs": [
    {
     "name": "stdout",
     "output_type": "stream",
     "text": [
      "[0.9524, 0.89, 0.8163]\n"
     ]
    }
   ],
   "source": [
    "# Trivially\n",
    "discount_factors = [.9524, .8900, .8163]\n",
    "print(discount_factors)"
   ]
  },
  {
   "cell_type": "code",
   "execution_count": 157,
   "metadata": {},
   "outputs": [
    {
     "name": "stdout",
     "output_type": "stream",
     "text": [
      "5.00%\n",
      "6.00%\n",
      "7.00%\n"
     ]
    }
   ],
   "source": [
    "# Spot rates\n",
    "\n",
    "def spot_rate(discount_factor, maturity):\n",
    "    # Price in %\n",
    "    return (1/discount_factor) ** (1 / maturity) - 1\n",
    "\n",
    "spot_rates = [spot_rate(p, T) for p, T in [(.9524, 1),(.8900, 2), (.8163, 3)]]\n",
    "spot_rates_formatted = [f\"{r*100:.2f}%\" for r in spot_rates]\n",
    "print(\"\\n\".join(spot_rates_formatted))"
   ]
  },
  {
   "cell_type": "code",
   "execution_count": 158,
   "metadata": {},
   "outputs": [
    {
     "name": "stdout",
     "output_type": "stream",
     "text": [
      "r_12 = 7.01%\n",
      "r_23 = 9.03%\n",
      "r_13 = 8.02%\n"
     ]
    }
   ],
   "source": [
    "# Forward rates\n",
    "\n",
    "# In 1 for 1\n",
    "r_12 = (1 + spot_rates[1])**2 / (1 + spot_rates[0]) - 1\n",
    "print(f\"r_12 = {r_12*100:.2f}%\")\n",
    "# In 2 for 1\n",
    "r_12 = (1 + spot_rates[2])**3 / (1 + spot_rates[1])**2 - 1\n",
    "print(f\"r_23 = {r_12*100:.2f}%\")\n",
    "# In 1 for 2\n",
    "r_12 = ( (1 + spot_rates[2])**3 / (1 + spot_rates[0])**1 )**(1/2) - 1\n",
    "print(f\"r_13 = {r_12*100:.2f}%\")"
   ]
  },
  {
   "attachments": {},
   "cell_type": "markdown",
   "metadata": {},
   "source": [
    "#### Task: Price a three year 10% bond. Calculate the IRR and explain the relationship of the spot rates and the IRR."
   ]
  },
  {
   "cell_type": "code",
   "execution_count": 159,
   "metadata": {},
   "outputs": [
    {
     "name": "stdout",
     "output_type": "stream",
     "text": [
      "Fair price 10% 3Y bond: 108.2170\n"
     ]
    }
   ],
   "source": [
    "def fair_price(coupon):\n",
    "    # sum(discount_factors) is an annuity factor\n",
    "    pv_cpn = coupon * sum(discount_factors)\n",
    "    # the last discount factor [-1] discounts the face value\n",
    "    pv = pv_cpn + discount_factors[-1]  \n",
    "    return pv\n",
    "\n",
    "print(f'Fair price 10% 3Y bond: {fair_price(0.1)*100:.4f}')"
   ]
  },
  {
   "attachments": {},
   "cell_type": "markdown",
   "metadata": {},
   "source": [
    "YTM is a weighted average of the spot rates."
   ]
  },
  {
   "attachments": {},
   "cell_type": "markdown",
   "metadata": {},
   "source": [
    "#### Task: Evaluate with the same curve, a three year floater against the one year rate (bond base)."
   ]
  },
  {
   "cell_type": "code",
   "execution_count": 160,
   "metadata": {},
   "outputs": [
    {
     "name": "stdout",
     "output_type": "stream",
     "text": [
      "PV floater = 100.00%\n"
     ]
    }
   ],
   "source": [
    "pv_float = 1 - discount_factors[-1]\n",
    "pv_fix = discount_factors[-1]\n",
    "print(f\"PV floater = {(pv_float + pv_fix) * 100:.2f}%\")"
   ]
  },
  {
   "attachments": {},
   "cell_type": "markdown",
   "metadata": {},
   "source": [
    "#### Task: Solve analytically and calculate the par coupon rate for a three year bond."
   ]
  },
  {
   "attachments": {},
   "cell_type": "markdown",
   "metadata": {},
   "source": [
    "Par coupon bond must fulfill\n",
    "\n",
    "$$\\begin{aligned}\n",
    "100\\% &= C \\sum^T_{t=1} DF_t + DF_T\\\\\n",
    "C &= \\frac{100\\% - DF_T}{\\sum^T_{t=1} DF_t}  \\\\\n",
    "\\end{aligned}$$"
   ]
  },
  {
   "cell_type": "code",
   "execution_count": 161,
   "metadata": {},
   "outputs": [
    {
     "name": "stdout",
     "output_type": "stream",
     "text": [
      "Par coupon: 6.91%\n",
      "Fair price 6.91% 3Y bond: 100.00%\n"
     ]
    }
   ],
   "source": [
    "# Par cpn bond rate\n",
    "par_cpn_rate = (1 - discount_factors[-1]) / sum(discount_factors)\n",
    "print(f\"Par coupon: {par_cpn_rate*100:.2f}%\")\n",
    "# Check numerically\n",
    "print(f'Fair price {par_cpn_rate*100:.2f}% 3Y bond: {fair_price(par_cpn_rate)*100:.2f}%')"
   ]
  },
  {
   "attachments": {},
   "cell_type": "markdown",
   "metadata": {},
   "source": [
    "### Part 2: Asset-/ liability-swap"
   ]
  },
  {
   "attachments": {},
   "cell_type": "markdown",
   "metadata": {},
   "source": [
    "#### Task: Calculate the level of the floating debt (liability swap).\n",
    "\n",
    "Power has issued a five year bond with a coupon of 2% and a price of 100.50. The five year IRS is quoted 2,00 – 2,05 against six month EURIBOR. "
   ]
  },
  {
   "cell_type": "code",
   "execution_count": 162,
   "metadata": {},
   "outputs": [
    {
     "name": "stdout",
     "output_type": "stream",
     "text": [
      "YTM = 1.89%\n",
      "Liability swap level = Euribor -11 basis points\n"
     ]
    }
   ],
   "source": [
    "from scipy.optimize import minimize\n",
    "\n",
    "def YTM(price, coupon, maturity):\n",
    "    # calculate PV from irr\n",
    "    def YTM_price(irr, coupon, maturity):\n",
    "        T = maturity\n",
    "        annuity_factor = (1 - (1 + irr) ** -T) / irr\n",
    "        p = coupon * annuity_factor + 1 / (1 + irr) ** T\n",
    "        return p\n",
    "    # target function to be minimized\n",
    "    def NPV2(irr):\n",
    "        return (price - YTM_price(irr, coupon, maturity)) ** 2\n",
    "    # set NPV = 0 and return both PVs and the irr\n",
    "    opt = minimize(NPV2, x0=0.01, bounds = ((None, None),))\n",
    "    return opt.x[0]\n",
    "\n",
    "ytm_21 = YTM(100.5/100, 2/100, 5)\n",
    "print(f'YTM = {ytm_21 * 100:.2f}%')\n",
    "print(f'Liability swap level = Euribor {(ytm_21 - 0.02) * 10000:.0f} basis points')"
   ]
  },
  {
   "attachments": {},
   "cell_type": "markdown",
   "metadata": {},
   "source": [
    "#### Task: Calculate the asset swap.\n",
    "\n",
    "The Investor has bought a five year AA Bond with a coupon of 3% for 101,00. The 5 Y IRS quotes 2,00 -2,05 against 6M Euribor. "
   ]
  },
  {
   "cell_type": "code",
   "execution_count": 163,
   "metadata": {},
   "outputs": [
    {
     "name": "stdout",
     "output_type": "stream",
     "text": [
      "YTM = 2.78%\n",
      "Asset swap level = Euribor 73 basis points\n"
     ]
    }
   ],
   "source": [
    "ytm_22 = YTM(101.0/100, 3/100, 5)\n",
    "print(f'YTM = {ytm_22 * 100:.2f}%')\n",
    "print(f'Asset swap level = Euribor {(ytm_22 - 0.0205) * 10000:.0f} basis points')"
   ]
  },
  {
   "attachments": {},
   "cell_type": "markdown",
   "metadata": {},
   "source": [
    "### Part 3: Single curve\n",
    "\n",
    "The following swap rates are given: \n",
    "\n",
    "| Maturity | 12M Euribor | \n",
    "|:--------:|:-----------:|\n",
    "|    1Y    |    4.00%    | \n",
    "|    2Y    |    5.00%    | \n",
    "|    3Y    |    6.00%    | \n",
    "\n",
    "(Tables generated with [TablesGenerator](https://www.tablesgenerator.com/markdown_tables))"
   ]
  },
  {
   "attachments": {},
   "cell_type": "markdown",
   "metadata": {},
   "source": [
    "#### Task: Bootstrap discount factors and spot rates using the single curve approach."
   ]
  },
  {
   "cell_type": "code",
   "execution_count": 164,
   "metadata": {},
   "outputs": [
    {
     "name": "stdout",
     "output_type": "stream",
     "text": [
      "[0.9615384615384615, 0.9065934065934065, 0.8376529131246111]\n",
      "[0.040000000000000036, 0.05025249489363426, 0.06082879324860291]\n"
     ]
    }
   ],
   "source": [
    "def swap_bootstrap(swap_rates):\n",
    "    discount_factors = []\n",
    "    for s in swap_rates:\n",
    "        # See Slide 61 \n",
    "        DF_T = (1 - s * sum(discount_factors)) / (1 + s)\n",
    "        discount_factors.append(DF_T)\n",
    "        \n",
    "    zero_rates = []\n",
    "    for T, DF_T in enumerate(discount_factors):\n",
    "        # Python starts counting at 0, hence, +1\n",
    "        T = T + 1\n",
    "        # See Slide 48\n",
    "        r_T = (1 / DF_T)**(1 / T) - 1\n",
    "        zero_rates.append(r_T)\n",
    "        \n",
    "    return [discount_factors, zero_rates]\n",
    "\n",
    "discount_factors, spot_rates = swap_bootstrap([0.04, 0.05, 0.06])\n",
    "print(discount_factors)\n",
    "print(spot_rates)"
   ]
  },
  {
   "attachments": {},
   "cell_type": "markdown",
   "metadata": {},
   "source": [
    "#### Task: Price a three year swap against the one year rate using the single curve approach."
   ]
  },
  {
   "cell_type": "code",
   "execution_count": 165,
   "metadata": {},
   "outputs": [
    {
     "name": "stdout",
     "output_type": "stream",
     "text": [
      "3Y swap rate = 6.00%\n"
     ]
    }
   ],
   "source": [
    "def swap_pricing(discount_factors):\n",
    "    # See Slide 66\n",
    "    s_T = (1 - discount_factors[-1]) / sum(discount_factors)\n",
    "    return s_T\n",
    "    \n",
    "print(f\"3Y swap rate = {swap_pricing(discount_factors)*100:.2f}%\")"
   ]
  },
  {
   "attachments": {},
   "cell_type": "markdown",
   "metadata": {},
   "source": [
    "#### Task: Price the forward swap in one for two. Show that the result is correct and compare it to the zero rate in one for two using the single curve approach. "
   ]
  },
  {
   "cell_type": "code",
   "execution_count": 166,
   "metadata": {},
   "outputs": [
    {
     "name": "stdout",
     "output_type": "stream",
     "text": [
      "1X2 swap rate = 7.10%\n"
     ]
    }
   ],
   "source": [
    "# Please note that discount_factors is a vector that starts with the first discount factor (t = 1)\n",
    "s_13 = (discount_factors[0] - discount_factors[-1]) / sum(discount_factors[1::])\n",
    "\n",
    "print(f\"1X2 swap rate = {s_13*100:.2f}%\")"
   ]
  },
  {
   "attachments": {},
   "cell_type": "markdown",
   "metadata": {},
   "source": [
    "#### Task: Mark to market a swap, 8% against 12M Euribor with a remaining maturity of 3 years and EUR 100mln notional."
   ]
  },
  {
   "cell_type": "code",
   "execution_count": 167,
   "metadata": {},
   "outputs": [
    {
     "name": "stdout",
     "output_type": "stream",
     "text": [
      "Receiver MTM = EUR 5,411,569.56 mln\n",
      "Receiver MTM = EUR 5,411,569.56 mln\n"
     ]
    }
   ],
   "source": [
    "# Discounted swap rate differential\n",
    "mtm = (0.08 - 0.06) * sum(discount_factors) * 100e+6\n",
    "print(f\"Receiver MTM = EUR {mtm:,.2f} mln\")\n",
    "\n",
    "# PV(Fix) - PV(Float)\n",
    "mtm_alternative = 0.08 * sum(discount_factors) * 100e+6 - (1 - discount_factors[-1]) * 100e+6\n",
    "print(f\"Receiver MTM = EUR {mtm_alternative:,.2f} mln\")\n"
   ]
  },
  {
   "attachments": {},
   "cell_type": "markdown",
   "metadata": {},
   "source": [
    "### Part 4: Multi curve\n",
    "\n",
    "Consider a three year swap against the one year rate using the multi curve approach. The following swap rates are given: \n",
    "\n",
    "| Maturity | 12M Euribor | Eonia |\n",
    "|:--------:|:-----------:|:-----:|\n",
    "|    1Y    |    4.00%    | 3.30% |\n",
    "|    2Y    |    5.00%    | 4.50% |\n",
    "|    3Y    |    6.00%    | 5.30% |\n",
    "\n",
    "(Tables generated with [TablesGenerator](https://www.tablesgenerator.com/markdown_tables))"
   ]
  },
  {
   "attachments": {},
   "cell_type": "markdown",
   "metadata": {},
   "source": [
    "#### Task: Calculate the spot rates."
   ]
  },
  {
   "cell_type": "code",
   "execution_count": 168,
   "metadata": {},
   "outputs": [
    {
     "name": "stdout",
     "output_type": "stream",
     "text": [
      "[0.9680542110358181, 0.9152512540702279, 0.854876363104824]\n",
      "[0.03299999999999992, 0.0452732436287433, 0.05365612701860023]\n"
     ]
    }
   ],
   "source": [
    "eonia_discount_factors, eonia_spot_rates = swap_bootstrap([0.033, 0.045, 0.053])\n",
    "print(eonia_discount_factors)\n",
    "print(eonia_spot_rates)"
   ]
  },
  {
   "attachments": {},
   "cell_type": "markdown",
   "metadata": {},
   "source": [
    "#### Task: Calculate the implied forward rates. \n",
    "\n",
    "(Hint: the one year spot rate for the swap cash flow is taken from the single curve approach.)\n"
   ]
  },
  {
   "cell_type": "code",
   "execution_count": 169,
   "metadata": {},
   "outputs": [
    {
     "name": "stdout",
     "output_type": "stream",
     "text": [
      "Implied forward rates: ['4.00%', '6.06%', '8.20%']\n"
     ]
    }
   ],
   "source": [
    "def multi_curve(swap_rates, eonia_rates):\n",
    "    # bootstrap discount factors from eonia rates\n",
    "    discount_factors, _ = swap_bootstrap(eonia_rates)\n",
    "    # setup \n",
    "    SDF = 0 # sum of discount factors\n",
    "    CD = 0  # discounted fixed leg until T\n",
    "    LD = 0  # discounted float leg until T-1\n",
    "    \n",
    "    implied_forwards = []\n",
    "    for C_T, DF_T in zip(swap_rates, discount_factors):\n",
    "        SDF += DF_T  # add up discount factors\n",
    "        CD = C_T * SDF  # C_T is an annuity\n",
    "        L = (CD - LD) / DF_T  # calculate implied forward rate (see equation above)\n",
    "        implied_forwards.append(L)  # round and save L\n",
    "        LD += L * DF_T  # sum up discounted L (used in next iteration)\n",
    "        \n",
    "    return implied_forwards\n",
    "    \n",
    "implied_forward_rates = multi_curve([0.04, 0.05, 0.06], [0.033, 0.045, 0.053])\n",
    "implied_forward_rates_formatted = [f\"{r*100:.2f}%\" for r in implied_forward_rates]\n",
    "print(f\"Implied forward rates: {implied_forward_rates_formatted}\")"
   ]
  },
  {
   "attachments": {},
   "cell_type": "markdown",
   "metadata": {},
   "source": [
    "#### Task: Calculate the forward swap in one for two.\n"
   ]
  },
  {
   "cell_type": "code",
   "execution_count": 170,
   "metadata": {},
   "outputs": [
    {
     "name": "stdout",
     "output_type": "stream",
     "text": [
      "1X2 swap rate (multi curve) = 7.09%\n"
     ]
    }
   ],
   "source": [
    "import numpy as np\n",
    "\n",
    "implied_forwards = multi_curve([0.04, 0.05, 0.06], [0.033, 0.045, 0.053])\n",
    "eonia_discount_factors, _ = swap_bootstrap([0.033, 0.045, 0.053])\n",
    "\n",
    "# PV float leg, this was 1 - DF_T before:\n",
    "PV_Var = sum(np.array(implied_forwards[1::]) * np.array(eonia_discount_factors[1::]))\n",
    "# Swap rate\n",
    "s_13m = PV_Var / sum(eonia_discount_factors[1::])\n",
    "\n",
    "print(f\"1X2 swap rate (multi curve) = {s_13m*100:.2f}%\")"
   ]
  },
  {
   "attachments": {},
   "cell_type": "markdown",
   "metadata": {},
   "source": [
    "### Part 5: Interest rate parity"
   ]
  },
  {
   "attachments": {},
   "cell_type": "markdown",
   "metadata": {},
   "source": [
    "#### Task: Calculate the one year (365 days) FX swap forward using covered interest rate parity. \n",
    "* Spot = 1.3193 \n",
    "* USD interest = 1.05310%\n",
    "* EUR interest = 1.4375%"
   ]
  },
  {
   "cell_type": "code",
   "execution_count": 171,
   "metadata": {},
   "outputs": [
    {
     "name": "stdout",
     "output_type": "stream",
     "text": [
      "EURUSD FX forward = 1.3142\n",
      "EURUSD FX swap points = -0.0051\n"
     ]
    }
   ],
   "source": [
    "spot = 1.3193  # EURUSD\n",
    "r_usd = 0.010531\n",
    "r_eur = 0.014375\n",
    "\n",
    "fx_fwd = spot * (1 + r_usd * 365/360) / (1 + r_eur * 365/360)\n",
    "print(f\"EURUSD FX forward = {fx_fwd:.4f}\")\n",
    "print(f\"EURUSD FX swap points = {fx_fwd - spot:.4f}\")"
   ]
  },
  {
   "attachments": {},
   "cell_type": "markdown",
   "metadata": {},
   "source": [
    "#### Task: Mark to market the following cross currency swap.\n",
    "\n",
    "The term structure of interest rates is flat at 6% in USD and 8% in AUD (continuous rates). The current exchange rate is 0.64 USD per AUD. You pay 7% in AUD and receive 3% in USD, with principals being USD 15mln and AUD 25mln. Payments are exchanged annually with 3 payments left (3 years to maturity)."
   ]
  },
  {
   "cell_type": "code",
   "execution_count": 172,
   "metadata": {},
   "outputs": [
    {
     "name": "stdout",
     "output_type": "stream",
     "text": [
      "PV cross currency swap = USD -1,727,527.33\n"
     ]
    }
   ],
   "source": [
    "# Annuity factors\n",
    "time = np.array([1,2,3])\n",
    "annuity_factor_usd = sum(np.exp(- 0.06 * time))\n",
    "annuity_factor_aud = sum(np.exp(- 0.08 * time))\n",
    "\n",
    "# Payment legs\n",
    "pv_usd = 0.03  * 15e+6 * annuity_factor_usd + 15e+6 * np.exp(-.06 * 3)\n",
    "pv_aud = 0.07  * 25e+6 * annuity_factor_aud + 25e+6 * np.exp(-.08 * 3)\n",
    "\n",
    "# PV difference\n",
    "pv_ccy = pv_usd - pv_aud * 0.64\n",
    "\n",
    "print(f\"PV cross currency swap = USD {pv_ccy:,.2f}\")\n"
   ]
  }
 ],
 "metadata": {
  "kernelspec": {
   "display_name": "Python 3 (ipykernel)",
   "language": "python",
   "name": "python3"
  },
  "language_info": {
   "codemirror_mode": {
    "name": "ipython",
    "version": 3
   },
   "file_extension": ".py",
   "mimetype": "text/x-python",
   "name": "python",
   "nbconvert_exporter": "python",
   "pygments_lexer": "ipython3",
   "version": "3.8.10"
  }
 },
 "nbformat": 4,
 "nbformat_minor": 2
}
