{
 "cells": [
  {
   "attachments": {},
   "cell_type": "markdown",
   "metadata": {},
   "source": [
    "![image-3.png](https://github.com/cafawo/Derivatives/blob/main/figures/fscampus_small.png?raw=1)\n",
    "\n",
    "# Derivatives\n",
    "\n",
    "**Prof. Dr. Fabian Woebbeking**</br>\n",
    "Assistant Professor of Financial Economics\n",
    "\n",
    "IWH - Leibniz Institute for Economic Research</br>\n",
    "Frankfurt School of Finance & Management\n",
    "\n",
    "fabian.woebbeking@dozent.frankfurt-school.de"
   ]
  },
  {
   "attachments": {},
   "cell_type": "markdown",
   "metadata": {},
   "source": [
    "## Case 1: Warm-up"
   ]
  },
  {
   "attachments": {},
   "cell_type": "markdown",
   "metadata": {},
   "source": [
    "The idea of this case is to familiarize yourself with the use of Colab and some very basic Python coding. Before you start:\n",
    "\n",
    "* Familiarize yourself with saving and opening a Notebook on Colab (you might lose all your hard work otherwise): [README.md](https://github.com/cafawo/Derivatives)\n",
    "* Refresh you knowledge on **code** vs **text** (Markdown) cells: https://colab.research.google.com/notebooks/markdown_guide.ipynb"
   ]
  },
  {
   "attachments": {},
   "cell_type": "markdown",
   "metadata": {},
   "source": [
    "### Part 1"
   ]
  },
  {
   "attachments": {},
   "cell_type": "markdown",
   "metadata": {},
   "source": [
    "#### Task: What kind of option portfolio/strategy do you see below? Why would anyone want it?"
   ]
  },
  {
   "cell_type": "markdown",
   "metadata": {},
   "source": []
  },
  {
   "cell_type": "code",
   "execution_count": 3,
   "metadata": {},
   "outputs": [
    {
     "data": {
      "image/png": "[encoded data removed]",
      "text/plain": [
       "<Figure size 648x288 with 1 Axes>"
      ]
     },
     "metadata": {
      "needs_background": "light"
     },
     "output_type": "display_data"
    }
   ],
   "source": [
    "# Imports\n",
    "import numpy as np\n",
    "import matplotlib.pyplot as plt\n",
    "\n",
    "# Some parameters (see tasks)\n",
    "S_T = np.linspace(0,100)\n",
    "K = 50\n",
    "\n",
    "# Portfolio\n",
    "CF_T = + np.maximum(S_T - K, 0)\n",
    "CF2_T =  + np.maximum(K - S_T, 0)\n",
    "\n",
    "# Plotting\n",
    "plt.figure('PCP', figsize=(9,4))\n",
    "plt.plot(S_T, CF_T)\n",
    "plt.plot(S_T, CF2_T)\n",
    "plt.axhline(y=0, linewidth=1, color=\"black\")\n",
    "plt.xlabel(\"Spot price\")\n",
    "plt.ylabel(\"Cash flow\")\n",
    "plt.annotate(\"K\", (K,-5))\n",
    "plt.show()"
   ]
  },
  {
   "attachments": {},
   "cell_type": "markdown",
   "metadata": {},
   "source": [
    "#### Task: Explain the difference between a long position in a forward and a long position in a call."
   ]
  },
  {
   "cell_type": "markdown",
   "metadata": {},
   "source": []
  },
  {
   "attachments": {},
   "cell_type": "markdown",
   "metadata": {},
   "source": [
    "#### Task: Explain the concept of put-call-parity."
   ]
  },
  {
   "cell_type": "markdown",
   "metadata": {},
   "source": []
  },
  {
   "attachments": {},
   "cell_type": "markdown",
   "metadata": {},
   "source": [
    "#### Task: Evaluate a portfolio consisting of a long call on a share with strike price $K$ and a short put with identical strike. Please solve graphically and algebraically."
   ]
  },
  {
   "cell_type": "code",
   "execution_count": 4,
   "metadata": {},
   "outputs": [],
   "source": [
    "# Hint: adopt the code from above\n",
    "\n",
    "# Your code ..."
   ]
  },
  {
   "attachments": {},
   "cell_type": "markdown",
   "metadata": {},
   "source": [
    "#### Task: Evaluate a portfolio consisting of a long forward on a share with exercise price $K$ and a long put with identical strike. Please solve graphically and algebraically."
   ]
  },
  {
   "cell_type": "code",
   "execution_count": 5,
   "metadata": {},
   "outputs": [],
   "source": [
    "# Hint: adopt the code from above\n",
    "\n",
    "# Your code ..."
   ]
  },
  {
   "attachments": {},
   "cell_type": "markdown",
   "metadata": {},
   "source": [
    "### Part 2"
   ]
  },
  {
   "attachments": {},
   "cell_type": "markdown",
   "metadata": {},
   "source": [
    "#### Explain the difference between open interest and trading volume."
   ]
  },
  {
   "cell_type": "markdown",
   "metadata": {},
   "source": []
  },
  {
   "attachments": {},
   "cell_type": "markdown",
   "metadata": {},
   "source": [
    "#### Which elements are especially important when you create a future contract?"
   ]
  },
  {
   "cell_type": "markdown",
   "metadata": {},
   "source": []
  },
  {
   "attachments": {},
   "cell_type": "markdown",
   "metadata": {},
   "source": [
    "#### Build a function to calculate the FV as a function of PV, maturity, interest, number of compounding periods during each year."
   ]
  },
  {
   "cell_type": "code",
   "execution_count": 6,
   "metadata": {},
   "outputs": [
    {
     "name": "stdout",
     "output_type": "stream",
     "text": [
      "The output of function_name(...) is: 10.0\n"
     ]
    }
   ],
   "source": [
    "# Hint:\n",
    "def function_name(input_a, input_b):\n",
    "    output = input_a / input_b ** 2\n",
    "    return output\n",
    "\n",
    "print(f\"The output of function_name(...) is: {function_name(1000, 10)}\")\n",
    "\n",
    "# Your code ..."
   ]
  },
  {
   "attachments": {},
   "cell_type": "markdown",
   "metadata": {},
   "source": [
    "#### A note on output formatting \n",
    "\n",
    "As we like it precise, it makes little sense to round during calculations, hence, we (string) format the final output (see example below and https://docs.python.org/3/tutorial/inputoutput.html)."
   ]
  },
  {
   "cell_type": "code",
   "execution_count": 7,
   "metadata": {},
   "outputs": [
    {
     "name": "stdout",
     "output_type": "stream",
     "text": [
      "1000.3333333333334\n",
      "Not that ugly: 1,000.33\n",
      "Interest rate format: 7.6923%\n"
     ]
    }
   ],
   "source": [
    "# Ugly\n",
    "print(1000 + 1/3)\n",
    "\n",
    "# Not that ugly\n",
    "print(f\"Not that ugly: {1000 + 1/3:,.2f}\")\n",
    "\n",
    "# Interest rates should be formatted like this\n",
    "print(f\"Interest rate format: {1/13 * 100:,.4f}%\")"
   ]
  },
  {
   "attachments": {},
   "cell_type": "markdown",
   "metadata": {},
   "source": [
    "#### Explain (solve) and calculate for an ISMA rate of 10% the SIA, money and continuous rates. Also calculate the FV in one year using all methods."
   ]
  },
  {
   "cell_type": "markdown",
   "metadata": {},
   "source": []
  },
  {
   "cell_type": "code",
   "execution_count": 8,
   "metadata": {},
   "outputs": [],
   "source": [
    "# Your code"
   ]
  },
  {
   "attachments": {},
   "cell_type": "markdown",
   "metadata": {},
   "source": [
    "#### Convert 10% ISMA (Europe) into SIA (US)."
   ]
  },
  {
   "cell_type": "code",
   "execution_count": 9,
   "metadata": {},
   "outputs": [],
   "source": [
    "# Your code"
   ]
  },
  {
   "attachments": {},
   "cell_type": "markdown",
   "metadata": {},
   "source": [
    "#### What is the difference between the US and Germany when you short the underlying?"
   ]
  },
  {
   "cell_type": "markdown",
   "metadata": {},
   "source": []
  }
 ],
 "metadata": {
  "kernelspec": {
   "display_name": "Python 3 (ipykernel)",
   "language": "python",
   "name": "python3"
  },
  "language_info": {
   "codemirror_mode": {
    "name": "ipython",
    "version": 3
   },
   "file_extension": ".py",
   "mimetype": "text/x-python",
   "name": "python",
   "nbconvert_exporter": "python",
   "pygments_lexer": "ipython3",
   "version": "3.9.12"
  }
 },
 "nbformat": 4,
 "nbformat_minor": 2
}
